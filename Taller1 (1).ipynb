{
  "nbformat": 4,
  "nbformat_minor": 0,
  "metadata": {
    "colab": {
      "name": "Taller1.ipynb",
      "provenance": [],
      "collapsed_sections": [
        "QiEDpVKNpK3m"
      ]
    },
    "kernelspec": {
      "name": "python3",
      "display_name": "Python 3"
    }
  },
  "cells": [
    {
      "cell_type": "markdown",
      "metadata": {
        "id": "jx1cWunM8oyg",
        "colab_type": "text"
      },
      "source": [
        "#**Desarrollo Taller 1**\n",
        "Juan Sebastián Morán 818048\n",
        "Universidad Nacional de Colombia - sede Manizales"
      ]
    },
    {
      "cell_type": "markdown",
      "metadata": {
        "id": "nhvat8Pd8_xe",
        "colab_type": "text"
      },
      "source": [
        "#**2. Conceptos Básicos de Señales**\n",
        "#**i)**\n",
        "Evaluar la expresión\n",
        "$$\\int_{-\\infty}^{\\infty} t^{2} e^{- \\sin{\\left (t \\right )}} \\cos{\\left (2 t \\right )} \\delta\\left(2 t - 2 \\pi\\right)dt \\rightarrow 1$$\n",
        "Nota: Consultar las propiedas de selectividad y escala en el\n",
        "tiempo de la funcion impulso unitario. Comprobar el resultado en simulacion con la librería SymPy.\n",
        "\n",
        "\n"
      ]
    },
    {
      "cell_type": "markdown",
      "metadata": {
        "id": "_7mmJ6EE0Dyg",
        "colab_type": "text"
      },
      "source": [
        "##Solución\n",
        "Teniendo en cuenta las propiedades de la función delta de Dirac se tiene que:\n",
        "$$\\int_{-\\infty}^{\\infty}f(t) \\delta\\left(t - t_o\\right)dt = f(t_o) \\rightarrow 2 $$\n",
        "\n",
        "\n",
        "\n",
        "$$\\delta\\left(at - t_o\\right) = \\mid a \\mid^{-1}\\delta(x-\\frac{t_o}{a}) \\rightarrow 3 $$ \n",
        "\n",
        "Tomando $\\delta\\left(2 t - 2 \\pi\\right)$ de la Ecuacion 1 y aplicándo propiedades de la Ecuacion 3 se tiene:\n",
        "\n",
        "$$\\delta\\left(2 t - 2 \\pi\\right) = \\frac{1}{2}\\delta(t-\\pi) $$\n",
        "Reemplazando en la ecuación 1:\n",
        "$$\\int_{-\\infty}^{\\infty} t^{2} e^{- \\sin{\\left (t \\right )}} \\cos{\\left (2 t \\right )} \\frac{1}{2}\\delta(t-\\pi)dt $$\n",
        "Ahora, aplicando la propiedad de la ecuación 2:\n",
        "$$\\int_{-\\infty}^{\\infty} t^{2} e^{- \\sin{\\left (t \\right )}} \\cos{\\left (2 t \\right )} \\frac{1}{2}\\delta(t-\\pi)dt = \\frac{1}{2}\\pi^2e^{-sin(\\pi)}cos(2\\pi) = \\frac{\\pi^2}{2} $$"
      ]
    },
    {
      "cell_type": "markdown",
      "metadata": {
        "id": "tLHukq66ElZV",
        "colab_type": "text"
      },
      "source": [
        "##Simulación 1"
      ]
    },
    {
      "cell_type": "code",
      "metadata": {
        "id": "Of_5uTPWuyUT",
        "colab_type": "code",
        "outputId": "cc019648-35a5-48b5-871d-21ec31978796",
        "colab": {
          "base_uri": "https://localhost:8080/",
          "height": 34
        }
      },
      "source": [
        "import sympy as sp\n",
        "from sympy import init_printing\n",
        "init_printing()\n",
        "t = sp.symbols('t', real = True)\n",
        "d = sp.DiracDelta((2*t)-2*(sp.pi))\n",
        "x = (t**2)*(sp.exp(-(sp.sin(t))))*(sp.cos(2*t))\n",
        "\n",
        "xi = x*d\n",
        "xii = sp.integrate(xi,(t,-(sp.oo),sp.oo))\n",
        "xii"
      ],
      "execution_count": 0,
      "outputs": [
        {
          "output_type": "execute_result",
          "data": {
            "image/png": "[encoded data removed]",
            "text/latex": "$$\\frac{\\pi^{2}}{2}$$",
            "text/plain": [
              " 2\n",
              "π \n",
              "──\n",
              "2 "
            ]
          },
          "metadata": {
            "tags": []
          },
          "execution_count": 107
        }
      ]
    },
    {
      "cell_type": "markdown",
      "metadata": {
        "id": "TZXpe1zs5emP",
        "colab_type": "text"
      },
      "source": [
        "$$\\frac{\\pi^{2}}{2}$$\n"
      ]
    },
    {
      "cell_type": "markdown",
      "metadata": {
        "id": "ae_rxmHsGENg",
        "colab_type": "text"
      },
      "source": [
        "#**ii)**\n",
        "Sea $x(t) = u(t−t_o)−u(t−nt_o)−kδ(t−mt_o).$ Determine\n",
        "el valor de $k$ para el cual $\\int_{-\\infty}^{\\infty}{x(t)}dt = 0.$ Comprobar el\n",
        "resultado en simulacion con la librería SymPy."
      ]
    },
    {
      "cell_type": "markdown",
      "metadata": {
        "id": "30Q0mOtqWNjH",
        "colab_type": "text"
      },
      "source": [
        "##Solución\n",
        "Hacemos:\n",
        "$$a = u(t−t_o)−u(t−nt_o)$$ \n",
        "y\n",
        "$$ b = kδ(t−mt_o)$$\n",
        "entonces:\n",
        "$$x(t) = a-b$$\n",
        "Por lo tanto:\n",
        "\\\n",
        "$$\\int_{-\\infty}^{\\infty}{x(t)}dt = \\int_{-\\infty}^{\\infty}adt-\\int_{-\\infty}^{\\infty}bdt = 0$$ \\\n",
        "Resolviendo $\\int_{-\\infty}^{\\infty}adt$ :\n",
        "$$\\int_{-\\infty}^{\\infty}adt = \\int_{-\\infty}^{\\infty}u(t−t_o)−u(t−nt_o)dt = \\int_{t_o}^{nt_o}dt = \\mid nt_o-t_o\\mid = \\mid t_o(n-1) \\mid$$\n",
        "\\\n",
        "Y resolviendo \n",
        "$\\int_{-\\infty}^{\\infty}bdt$ :\n",
        "\n",
        "$$\\int_{-\\infty}^{\\infty}bdt = \\int_{-\\infty}^{\\infty}kδ(t−mt_o) = k$$\n",
        "\\\n",
        "Entonces:\n",
        "$$\\mid nt_o-t_o\\mid-k = 0$$\n",
        "\\\n",
        "$$k = \\mid t_o(n-1) \\mid$$"
      ]
    },
    {
      "cell_type": "markdown",
      "metadata": {
        "id": "rUMhC8Zpd0Ue",
        "colab_type": "text"
      },
      "source": [
        "##Simulación 2"
      ]
    },
    {
      "cell_type": "code",
      "metadata": {
        "id": "ocVmjmxpHKvh",
        "colab_type": "code",
        "outputId": "1a2e16fb-6a0b-4cb4-8069-437a3799b3c0",
        "colab": {
          "base_uri": "https://localhost:8080/",
          "height": 34
        }
      },
      "source": [
        "import sympy as sp\n",
        "from sympy import init_printing\n",
        "init_printing()\n",
        "t, to, n, k, m = sp.symbols('t to n k m', real = True)\n",
        "ai = sp.integrate(1,(t,to,n*to))\n",
        "ai\n"
      ],
      "execution_count": 16,
      "outputs": [
        {
          "output_type": "execute_result",
          "data": {
            "image/png": "[encoded data removed]",
            "text/latex": "$$n to - to$$",
            "text/plain": [
              "n⋅to - to"
            ]
          },
          "metadata": {
            "tags": []
          },
          "execution_count": 16
        }
      ]
    },
    {
      "cell_type": "markdown",
      "metadata": {
        "id": "TeC47M2bcwfo",
        "colab_type": "text"
      },
      "source": [
        "$$n to - to$$\n",
        "\n",
        "\n",
        "\n"
      ]
    },
    {
      "cell_type": "code",
      "metadata": {
        "id": "V5OEtWwlIi9a",
        "colab_type": "code",
        "outputId": "edda5c74-8c66-400d-c11d-ef338b37c443",
        "colab": {
          "base_uri": "https://localhost:8080/",
          "height": 34
        }
      },
      "source": [
        "b = k*sp.DiracDelta(t-m*to)\n",
        "bi = sp.integrate(b,(t,-(sp.oo),sp.oo))\n",
        "bi"
      ],
      "execution_count": 0,
      "outputs": [
        {
          "output_type": "execute_result",
          "data": {
            "image/png": "[encoded data removed]",
            "text/latex": "$$k$$",
            "text/plain": [
              "k"
            ]
          },
          "metadata": {
            "tags": []
          },
          "execution_count": 109
        }
      ]
    },
    {
      "cell_type": "markdown",
      "metadata": {
        "id": "diHWOG8IIlSW",
        "colab_type": "text"
      },
      "source": [
        "$$k$$"
      ]
    },
    {
      "cell_type": "code",
      "metadata": {
        "id": "N0xu3anYIlue",
        "colab_type": "code",
        "outputId": "c6536e5a-312a-4290-80be-db077704e8a6",
        "colab": {
          "base_uri": "https://localhost:8080/",
          "height": 34
        }
      },
      "source": [
        "ec = sp.Eq(ai-bi,0)\n",
        "sp.solve(ec,k)"
      ],
      "execution_count": 0,
      "outputs": [
        {
          "output_type": "execute_result",
          "data": {
            "image/png": "[encoded data removed]",
            "text/latex": "$$\\left [ to \\left(n - 1\\right)\\right ]$$",
            "text/plain": [
              "[to⋅(n - 1)]"
            ]
          },
          "metadata": {
            "tags": []
          },
          "execution_count": 110
        }
      ]
    },
    {
      "cell_type": "markdown",
      "metadata": {
        "id": "byNyIbWqe5BD",
        "colab_type": "text"
      },
      "source": [
        "Resolviendo para k:\n",
        "$$k = \\left [ to \\left(n - 1\\right)\\right ]$$"
      ]
    },
    {
      "cell_type": "markdown",
      "metadata": {
        "id": "GyW73lttfpjT",
        "colab_type": "text"
      },
      "source": [
        "#**iii)**\n",
        "Consulte en que consisten las señales cuasiperiódicas. Luego, demuestre la periodicidad o no de las siguientes señales:\n",
        "\\\n",
        "• $x(t) = 3 cos(ωt)$\n",
        "\\\n",
        "• $x(t) = 2 sin(ωt + π)$\n",
        "\\\n",
        "•$ x(t) = 3 sin(\\sqrt{3}\n",
        "t) + 3 sin(5t) − 2 cos(t/\\sqrt{\n",
        "3})$\n",
        "\\\n",
        "•$ x(t) = 3 sin(4t) − 2 cos(50t) + 2 cos(10t)$\n",
        "\\\n",
        "• $x(t) = e^{jωt}$ \\\n",
        "\n",
        "Grafique cada una de las senales anteriores en Python utilizando arreglos de numpy (dibuje tres periodos si es el caso)."
      ]
    },
    {
      "cell_type": "markdown",
      "metadata": {
        "id": "cXfav-5RldgF",
        "colab_type": "text"
      },
      "source": [
        "##Desarrollo\n",
        "\n"
      ]
    },
    {
      "cell_type": "markdown",
      "metadata": {
        "id": "ZuMDUXnf0xjY",
        "colab_type": "text"
      },
      "source": [
        "\n",
        "##• $x(t) = 3 cos(ωt)$\n",
        "\\\n",
        "Se hace $x(t+T)$ \n",
        "$$x(t+T)= 3 cos(\\omega(t+T))$$\n",
        "\\\n",
        "$$3cos(\\omega(t+T))=3[cos(\\omega t)cos(\\omega T)-sen(\\omega t)sen(\\omega T)]$$\n",
        "Se remplaza: $\\omega = \\frac{2\\pi}{T_o}$ con $T_o = T$\n",
        "$$3cos(\\omega(t+T))=3[cos(\\omega t)cos(\\frac{2\\pi}{T}T )-sen(\\omega t)sen(\\frac{2\\pi}{T} T)]$$\n",
        "$$3cos(\\omega(t+T))=3[cos(\\omega t)1-0]$$\n",
        "$$3cos(\\omega(t+T))=3[cos(\\omega t)]$$ \n",
        "\n",
        "por lo tanto $x(t) = 3 cos(ωt) = 3cos(ω(t+T)) = x(t) = 3 cos(ωt)$ es periódica"
      ]
    },
    {
      "cell_type": "markdown",
      "metadata": {
        "id": "9Kbbm3ta0nQn",
        "colab_type": "text"
      },
      "source": [
        "###**Gráfico**"
      ]
    },
    {
      "cell_type": "code",
      "metadata": {
        "id": "1oKcQ0IZsIye",
        "colab_type": "code",
        "outputId": "f16f876b-0663-4843-9863-b0e96301e630",
        "colab": {
          "base_uri": "https://localhost:8080/",
          "height": 282
        }
      },
      "source": [
        "import numpy as np\n",
        "import matplotlib.pyplot as plt\n",
        "w = 100*np.pi\n",
        "f = w/(2*np.pi)\n",
        "T = 1/f\n",
        "t = np.linspace(0,3*T,1000)\n",
        "x = 3*np.cos(w*t)\n",
        "plt.plot(t,x)"
      ],
      "execution_count": 19,
      "outputs": [
        {
          "output_type": "execute_result",
          "data": {
            "text/plain": [
              "[<matplotlib.lines.Line2D at 0x7fd18737d2b0>]"
            ]
          },
          "metadata": {
            "tags": []
          },
          "execution_count": 19
        },
        {
          "output_type": "display_data",
          "data": {
            "image/png": "[encoded data removed]",
            "text/plain": [
              "<Figure size 432x288 with 1 Axes>"
            ]
          },
          "metadata": {
            "tags": [],
            "needs_background": "light"
          }
        }
      ]
    },
    {
      "cell_type": "markdown",
      "metadata": {
        "id": "QiEDpVKNpK3m",
        "colab_type": "text"
      },
      "source": [
        "\\\n",
        "##• **$x(t) = 2 sin(ωt + π) = -2sin(\\omega t)$**\n",
        "\\\n",
        "Se hace $x(t+T)$\n",
        "$$x(t+T) = -2sin(\\omega (t+T) )$$\n",
        "\\\n",
        "$$-2sin(\\omega (t+T)) = -2[sin(\\omega (t))cos(\\omega(T))+sin(\\omega(T))cos(\\omega(t)]$$\n",
        "\n",
        "\n",
        "\\\n",
        "Se remplaza: $\\omega = \\frac{2\\pi}{T_o}$ con $T_o = T$\n",
        "\\\n",
        "$$-2sin(\\omega (t+T)) = -2[sin(\\omega t)cos(\\frac{2\\pi}{T}T)+sin(\\frac{2\\pi}{T}T)cos(\\omega t)]$$\n",
        "$$-2sin(\\omega (t+T)) = -2[sin(\\omega t)1+0]$$\n",
        "$$-2sin(\\omega (t+T)) = -2sin(\\omega t)$$\n",
        "\\\n",
        "Por lo tanto $x(t) = -2 sin(ωt)  = -2sin(\\omega(t+T)) = -2sin(\\omega t) $ es periódica\n",
        "\n"
      ]
    },
    {
      "cell_type": "markdown",
      "metadata": {
        "id": "b6SbUStA1NQB",
        "colab_type": "text"
      },
      "source": [
        "###**Gráfico**"
      ]
    },
    {
      "cell_type": "code",
      "metadata": {
        "id": "zdvlRlHrkJ-A",
        "colab_type": "code",
        "outputId": "0732f901-72e9-4eeb-ae5d-c3f6c48c3db5",
        "colab": {
          "base_uri": "https://localhost:8080/",
          "height": 282
        }
      },
      "source": [
        "w = 100*np.pi\n",
        "f = w/(2*np.pi)\n",
        "T = 1/f\n",
        "t = np.linspace(0,3*T,1000)\n",
        "x = 2*np.sin(w*t+np.pi)\n",
        "plt.plot(t,x)"
      ],
      "execution_count": 20,
      "outputs": [
        {
          "output_type": "execute_result",
          "data": {
            "text/plain": [
              "[<matplotlib.lines.Line2D at 0x7fd18728f630>]"
            ]
          },
          "metadata": {
            "tags": []
          },
          "execution_count": 20
        },
        {
          "output_type": "display_data",
          "data": {
            "image/png": "[encoded data removed]",
            "text/plain": [
              "<Figure size 432x288 with 1 Axes>"
            ]
          },
          "metadata": {
            "tags": [],
            "needs_background": "light"
          }
        }
      ]
    },
    {
      "cell_type": "code",
      "metadata": {
        "id": "9WwgMHJPxmdd",
        "colab_type": "code",
        "colab": {}
      },
      "source": [
        ""
      ],
      "execution_count": 0,
      "outputs": []
    },
    {
      "cell_type": "markdown",
      "metadata": {
        "id": "QHKTzDKIY7hl",
        "colab_type": "text"
      },
      "source": [
        "##•$ x(t) = 3 sin(\\sqrt{3}\n",
        "t) + 3 sin(5t) − 2 cos(t/\\sqrt{\n",
        "3})$\n",
        "\\\n",
        "Revisando $\\omega$ para cada señal se observa como hay $\\sqrt{3}$, por lo tanto la función no es cuasiperiódica porque sus $\\omega$ no son números enteros.\n"
      ]
    },
    {
      "cell_type": "code",
      "metadata": {
        "id": "7dkhd5mgZI0r",
        "colab_type": "code",
        "outputId": "b3a83a92-b6f8-419b-97fd-6f3944d0d588",
        "colab": {
          "base_uri": "https://localhost:8080/",
          "height": 282
        }
      },
      "source": [
        "w = 100*np.pi\n",
        "f = w/(2*np.pi)\n",
        "T = 6*np.pi\n",
        "t = np.linspace(0,3*T,1000)\n",
        "x = 3*np.sin(np.sqrt(3)*t)+3*np.sin(5*t)-2*np.cos(t/np.sqrt(3))\n",
        "plt.plot(t,x)"
      ],
      "execution_count": 0,
      "outputs": [
        {
          "output_type": "execute_result",
          "data": {
            "text/plain": [
              "[<matplotlib.lines.Line2D at 0x7f65aee3db38>]"
            ]
          },
          "metadata": {
            "tags": []
          },
          "execution_count": 17
        },
        {
          "output_type": "display_data",
          "data": {
            "image/png": "[encoded data removed]",
            "text/plain": [
              "<Figure size 432x288 with 1 Axes>"
            ]
          },
          "metadata": {
            "tags": [],
            "needs_background": "light"
          }
        }
      ]
    },
    {
      "cell_type": "markdown",
      "metadata": {
        "id": "ShBM-U9NrTqF",
        "colab_type": "text"
      },
      "source": [
        "##•$ x(t) = 3 sin(4t) − 2 cos(50t) + 2 cos(10t)$\n",
        "\\\n",
        "Se hace $\\omega_1 = 4, \\omega_2 = 50, \\omega_3 = 10$\n",
        "\\\n",
        "\\\n",
        "$\\frac{\\omega_1}{\\omega_2}, \\frac{\\omega_2}{\\omega_3}, \\frac{\\omega_3}{\\omega_1}\n",
        "$ \n",
        "\\\n",
        "\\\n",
        "$\\frac{4}{50} , \\frac{50}{10}, \\frac{10}{4}$ son entero sobre entero, entonces la funcion es cuasiperiódica\n",
        "\\\n",
        "\\\n",
        "Se encuentran los periodos:\n",
        "\\\n",
        "\\\n",
        "$T_1 = \\frac{\\pi}{2}; T_2 = \\frac{\\pi}{25}; T_3 = \\frac{\\pi}{5}$\n",
        "\\\n",
        "\\\n",
        "$$T_1k_1=T_2k_2=T_3k_3=T$$\n",
        "\\\n",
        "\\\n",
        "$$ \\frac{\\pi}{2}k_1 = \\frac{\\pi}{25}k_2 = \\frac{\\pi}{5}k_3 = T$$\n",
        "\\\n",
        "Se multiplica por $50$ y se divide entre $\\pi$, teniendo que encontrar el mcm de 25, 2, 10 el cuál es ***50***.\n",
        "\\\n",
        "Ahora, con la expresión: \n",
        "\\\n",
        "$$25k_1=2k_2=10k_3=50$$ se obtiene los valores de $k_1,k_2$ y $k_3$\n",
        "\\\n",
        "$k_1 = 2$\n",
        "\\\n",
        "$k_2 = 25$\n",
        "\\\n",
        "$k_3 = 5$\n",
        "\\\n",
        "Al reemplazar: $$2\\frac{\\pi}{2} = 25\\frac{\\pi}{25} = 5\\frac{\\pi}{5} = T$$\n",
        "\\\n",
        "$$T = \\pi$$\n",
        "\n"
      ]
    },
    {
      "cell_type": "markdown",
      "metadata": {
        "id": "U0IEvPZx10gj",
        "colab_type": "text"
      },
      "source": [
        "###**Gráfico**"
      ]
    },
    {
      "cell_type": "code",
      "metadata": {
        "id": "Z0u9betS2APK",
        "colab_type": "code",
        "outputId": "b21be2bd-8b33-4694-dbe0-523d2fdf3d93",
        "colab": {
          "base_uri": "https://localhost:8080/",
          "height": 282
        }
      },
      "source": [
        "T = np.pi\n",
        "N = 1000\n",
        "t = np.linspace(0,3*T,N)\n",
        "x = 3*np.sin(4*t) - 2*np.cos(50*t) + 2*np.cos(10*t)\n",
        "plt.plot(t,x)"
      ],
      "execution_count": 22,
      "outputs": [
        {
          "output_type": "execute_result",
          "data": {
            "text/plain": [
              "[<matplotlib.lines.Line2D at 0x7fd18721aa20>]"
            ]
          },
          "metadata": {
            "tags": []
          },
          "execution_count": 22
        },
        {
          "output_type": "display_data",
          "data": {
            "image/png": "[encoded data removed]",
            "text/plain": [
              "<Figure size 432x288 with 1 Axes>"
            ]
          },
          "metadata": {
            "tags": [],
            "needs_background": "light"
          }
        }
      ]
    },
    {
      "cell_type": "code",
      "metadata": {
        "id": "9yYf9Gy82NQM",
        "colab_type": "code",
        "colab": {}
      },
      "source": [
        ""
      ],
      "execution_count": 0,
      "outputs": []
    },
    {
      "cell_type": "markdown",
      "metadata": {
        "id": "WI8T5Lzjh_HU",
        "colab_type": "text"
      },
      "source": [
        "##• $x(t) = e^{jωt}$\n",
        "\\\n"
      ]
    },
    {
      "cell_type": "code",
      "metadata": {
        "id": "5beSRAGWiLn5",
        "colab_type": "code",
        "colab": {}
      },
      "source": [
        ""
      ],
      "execution_count": 0,
      "outputs": []
    }
  ]
}