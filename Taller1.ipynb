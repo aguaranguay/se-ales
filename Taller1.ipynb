{
  "nbformat": 4,
  "nbformat_minor": 0,
  "metadata": {
    "colab": {
      "name": "Taller1.ipynb",
      "provenance": [],
      "collapsed_sections": [],
      "include_colab_link": true
    },
    "kernelspec": {
      "name": "python3",
      "display_name": "Python 3"
    }
  },
  "cells": [
    {
      "cell_type": "markdown",
      "metadata": {
        "id": "view-in-github",
        "colab_type": "text"
      },
      "source": [
        "<a href=\"https://colab.research.google.com/github/aguaranguay/se-ales/blob/master/Taller1.ipynb\" target=\"_parent\"><img src=\"https://colab.research.google.com/assets/colab-badge.svg\" alt=\"Open In Colab\"/></a>"
      ]
    },
    {
      "cell_type": "markdown",
      "metadata": {
        "id": "jx1cWunM8oyg",
        "colab_type": "text"
      },
      "source": [
        "#**Taller 1**\n",
        "Alejandro Guaranguay 818037\n"
      ]
    },
    {
      "cell_type": "markdown",
      "metadata": {
        "id": "nhvat8Pd8_xe",
        "colab_type": "text"
      },
      "source": [
        "#**2. Conceptos Básicos de Señales**\n",
        "###i) Evaluar la expresión $\\int_{-\\infty}^{\\infty} t^{2} e^{- \\sin{\\left (t\\right )}} \\cos{\\left (2t \\right )} \\delta\\left(2 t - 2 \\pi\\right)dt \\rightarrow 1$ Nota: Consultar las propiedas de selectividad y escala en el tiempo de la funcion impulso unitario. Comprobar el resultado en simulacion con la librería SymPy.\n",
        "\n",
        "\n",
        "\n",
        "\n"
      ]
    },
    {
      "cell_type": "markdown",
      "metadata": {
        "id": "_7mmJ6EE0Dyg",
        "colab_type": "text"
      },
      "source": [
        "##Solución\n",
        "Teniendo en cuenta las propiedades de la función delta de Dirac se tiene que:\n",
        "$$\\int_{-\\infty}^{\\infty}f(t) \\delta\\left(t - t_o\\right)dt = f(t_o) \\rightarrow 2 $$\n",
        "\n",
        "$$\\delta\\left(at - t_o\\right) = \\mid a \\mid^{-1}\\delta(x-\\frac{t_o}{a}) \\rightarrow 3 $$ \n",
        "\n",
        "Tomando $\\delta\\left(2 t - 2 \\pi\\right)$ de la Ecuacion 1 y aplicándo propiedades de la Ecuacion 3 se tiene:\n",
        "\n",
        "$$\\delta\\left(2 t - 2 \\pi\\right) = \\frac{1}{2}\\delta(t-\\pi) $$\n",
        "Reemplazando en la ecuación 1:\n",
        "$$\\int_{-\\infty}^{\\infty} t^{2} e^{- \\sin{\\left (t \\right )}} \\cos{\\left (2 t \\right )} \\frac{1}{2}\\delta(t-\\pi)dt $$\n",
        "Ahora, aplicando la propiedad de la ecuación 2:\n",
        "$$\\int_{-\\infty}^{\\infty} t^{2} e^{- \\sin{\\left (t \\right )}} \\cos{\\left (2 t \\right )} \\frac{1}{2}\\delta(t-\\pi)dt = \\frac{1}{2}\\pi^2e^{-sin(\\pi)}cos(2\\pi) = \\frac{\\pi^2}{2} $$"
      ]
    },
    {
      "cell_type": "markdown",
      "metadata": {
        "id": "tLHukq66ElZV",
        "colab_type": "text"
      },
      "source": [
        "##Simulación "
      ]
    },
    {
      "cell_type": "code",
      "metadata": {
        "id": "Of_5uTPWuyUT",
        "colab_type": "code",
        "outputId": "cc019648-35a5-48b5-871d-21ec31978796",
        "colab": {
          "base_uri": "https://localhost:8080/",
          "height": 34
        }
      },
      "source": [
        "import sympy as sp\n",
        "from sympy import init_printing\n",
        "init_printing()\n",
        "t = sp.symbols('t', real = True)\n",
        "d = sp.DiracDelta((2*t)-2*(sp.pi))\n",
        "x = (t**2)*(sp.exp(-(sp.sin(t))))*(sp.cos(2*t))\n",
        "\n",
        "xi = x*d\n",
        "xii = sp.integrate(xi,(t,-(sp.oo),sp.oo))\n",
        "xii"
      ],
      "execution_count": 0,
      "outputs": [
        {
          "output_type": "execute_result",
          "data": {
            "image/png": "[encoded data removed]",
            "text/latex": "$$\\frac{\\pi^{2}}{2}$$",
            "text/plain": [
              " 2\n",
              "π \n",
              "──\n",
              "2 "
            ]
          },
          "metadata": {
            "tags": []
          },
          "execution_count": 107
        }
      ]
    },
    {
      "cell_type": "markdown",
      "metadata": {
        "id": "TZXpe1zs5emP",
        "colab_type": "text"
      },
      "source": [
        "$$\\frac{\\pi^{2}}{2}$$\n",
        "\n",
        "---\n",
        "\n",
        "\n"
      ]
    },
    {
      "cell_type": "markdown",
      "metadata": {
        "id": "ae_rxmHsGENg",
        "colab_type": "text"
      },
      "source": [
        "###ii) Sea $x(t) = u(t- t_o)- u(t- nt_o)- k\\delta (t- mt_o)$ .Determine el valor de $k$ para el cual $\\int_{-\\infty}^{\\infty}{x(t)}dt = 0 $ . Comprobar el resultado en simulacion con la librería SymPy.\n"
      ]
    },
    {
      "cell_type": "markdown",
      "metadata": {
        "id": "30Q0mOtqWNjH",
        "colab_type": "text"
      },
      "source": [
        "##Solución\n",
        "Hacemos:\n",
        "\n",
        "$$a = u(t- t_o)- u(t- nt_o)$$ \n",
        "\n",
        "y:\n",
        "\n",
        "$$ b = k\\delta (t- mt_o)$$\n",
        "\n",
        "entonces:\n",
        "\n",
        "$$x(t) = a-b$$\n",
        "\n",
        "Por lo tanto:\n",
        "\n",
        "$$\\int_{-\\infty}^{\\infty}{x(t)}dt = \\int_{-\\infty}^{\\infty}adt-\\int_{-\\infty}^{\\infty}bdt = 0$$ \n",
        "\n",
        "Resolviendo $\\int_{-\\infty}^{\\infty}adt$ :\n",
        "\n",
        "$$\\int_{-\\infty}^{\\infty}adt = \\int_{-\\infty}^{\\infty}u(t- t_o)- u(t- nt_o)dt = \\int_{t_o}^{nt_o}dt = \\mid nt_o-t_o\\mid = \\mid t_o(n-1) \\mid$$\n",
        "\n",
        "Y resolviendo $\\int_{-\\infty}^{\\infty}bdt$ :\n",
        "\n",
        "$$\\int_{-\\infty}^{\\infty}bdt = \\int_{-\\infty}^{\\infty}k\\delta (t- mt_o) = k$$\n",
        "\n",
        "Entonces:\n",
        "\n",
        "$$\\mid nt_o-t_o\\mid-k = 0$$\n",
        "\n",
        "$$k = \\mid t_o(n-1) \\mid$$"
      ]
    },
    {
      "cell_type": "markdown",
      "metadata": {
        "id": "rUMhC8Zpd0Ue",
        "colab_type": "text"
      },
      "source": [
        "##Simulación"
      ]
    },
    {
      "cell_type": "code",
      "metadata": {
        "id": "ocVmjmxpHKvh",
        "colab_type": "code",
        "outputId": "1a2e16fb-6a0b-4cb4-8069-437a3799b3c0",
        "colab": {
          "base_uri": "https://localhost:8080/",
          "height": 34
        }
      },
      "source": [
        "import sympy as sp\n",
        "from sympy import init_printing\n",
        "init_printing()\n",
        "t, to, n, k, m = sp.symbols('t to n k m', real = True)\n",
        "ai = sp.integrate(1,(t,to,n*to))\n",
        "ai\n"
      ],
      "execution_count": 0,
      "outputs": [
        {
          "output_type": "execute_result",
          "data": {
            "image/png": "[encoded data removed]",
            "text/latex": "$$n to - to$$",
            "text/plain": [
              "n⋅to - to"
            ]
          },
          "metadata": {
            "tags": []
          },
          "execution_count": 16
        }
      ]
    },
    {
      "cell_type": "markdown",
      "metadata": {
        "id": "TeC47M2bcwfo",
        "colab_type": "text"
      },
      "source": [
        "$$n to - to$$\n",
        "\n",
        "\n",
        "\n"
      ]
    },
    {
      "cell_type": "code",
      "metadata": {
        "id": "V5OEtWwlIi9a",
        "colab_type": "code",
        "outputId": "edda5c74-8c66-400d-c11d-ef338b37c443",
        "colab": {
          "base_uri": "https://localhost:8080/",
          "height": 34
        }
      },
      "source": [
        "b = k*sp.DiracDelta(t-m*to)\n",
        "bi = sp.integrate(b,(t,-(sp.oo),sp.oo))\n",
        "bi"
      ],
      "execution_count": 0,
      "outputs": [
        {
          "output_type": "execute_result",
          "data": {
            "image/png": "[encoded data removed]",
            "text/latex": "$$k$$",
            "text/plain": [
              "k"
            ]
          },
          "metadata": {
            "tags": []
          },
          "execution_count": 109
        }
      ]
    },
    {
      "cell_type": "markdown",
      "metadata": {
        "id": "diHWOG8IIlSW",
        "colab_type": "text"
      },
      "source": [
        "$$k$$"
      ]
    },
    {
      "cell_type": "code",
      "metadata": {
        "id": "N0xu3anYIlue",
        "colab_type": "code",
        "outputId": "c6536e5a-312a-4290-80be-db077704e8a6",
        "colab": {
          "base_uri": "https://localhost:8080/",
          "height": 34
        }
      },
      "source": [
        "ec = sp.Eq(ai-bi,0)\n",
        "sp.solve(ec,k)"
      ],
      "execution_count": 0,
      "outputs": [
        {
          "output_type": "execute_result",
          "data": {
            "image/png": "[encoded data removed]",
            "text/latex": "$$\\left [ to \\left(n - 1\\right)\\right ]$$",
            "text/plain": [
              "[to⋅(n - 1)]"
            ]
          },
          "metadata": {
            "tags": []
          },
          "execution_count": 110
        }
      ]
    },
    {
      "cell_type": "markdown",
      "metadata": {
        "id": "byNyIbWqe5BD",
        "colab_type": "text"
      },
      "source": [
        "Resolviendo para k:\n",
        "\n",
        "$$k = \\left [ to \\left(n - 1\\right)\\right ]$$\n",
        "\n",
        "\n",
        "---\n",
        "\n"
      ]
    },
    {
      "cell_type": "markdown",
      "metadata": {
        "id": "GyW73lttfpjT",
        "colab_type": "text"
      },
      "source": [
        "#**iii)Consulte en que consisten las señales cuasiperiódicas. Luego, demuestre la periodicidad o no de las siguientes señales:**\n",
        "*   $x(t) = 3 cos(\\omega  t)$\n",
        "*   $x(t) = 2 sin(\\omega  t + \\pi )$\n",
        "*   $ x(t) = 3 sin(\\sqrt{3}t) + 3 sin(5t) -  2 cos(t/\\sqrt{3})$\n",
        "*   $ x(t) = 3 sin(4t) -  2 cos(50t) + 2 cos(10t)$\n",
        "*   $x(t) = e^{j\\omega  t}$\n",
        "\n",
        "Grafique cada una de las senales anteriores en Python utilizando arreglos de numpy (dibuje tres periodos si es el caso).\n",
        "\n",
        "\n"
      ]
    },
    {
      "cell_type": "markdown",
      "metadata": {
        "id": "cXfav-5RldgF",
        "colab_type": "text"
      },
      "source": [
        "##Desarrollo\n",
        "\n"
      ]
    },
    {
      "cell_type": "markdown",
      "metadata": {
        "id": "ZuMDUXnf0xjY",
        "colab_type": "text"
      },
      "source": [
        "\n",
        "##• $x(t) = 3 cos(\\omega  t)$\n",
        "\n",
        "Se hace $x(t+T)$ \n",
        "$$x(t+T)= 3 cos(\\omega(t+T))$$\n",
        "\n",
        "$$3cos(\\omega(t+T))=3[cos(\\omega t)cos(\\omega T)-sen(\\omega t)sen(\\omega T)]$$\n",
        "Se remplaza: $\\omega = \\frac{2\\pi}{T_o}$ con $T_o = T$\n",
        "$$3cos(\\omega(t+T))=3[cos(\\omega t)cos(\\frac{2\\pi}{T}T )-sen(\\omega t)sen(\\frac{2\\pi}{T} T)]$$\n",
        "$$3cos(\\omega(t+T))=3[cos(\\omega t)1-0]$$\n",
        "$$3cos(\\omega(t+T))=3[cos(\\omega t)]$$ \n",
        "\n",
        "por lo tanto $x(t) = 3 cos(\\omega  t) = 3cos(\\omega  (t+T)) = x(t) = 3 cos(\\omega  t)$ es periódica"
      ]
    },
    {
      "cell_type": "markdown",
      "metadata": {
        "id": "9Kbbm3ta0nQn",
        "colab_type": "text"
      },
      "source": [
        "###**Gráfico**"
      ]
    },
    {
      "cell_type": "code",
      "metadata": {
        "id": "1oKcQ0IZsIye",
        "colab_type": "code",
        "outputId": "c2f0dded-4d7e-40c4-fcc9-cb2a02080d3e",
        "colab": {
          "base_uri": "https://localhost:8080/",
          "height": 282
        }
      },
      "source": [
        "import numpy as np\n",
        "import matplotlib.pyplot as plt\n",
        "w = 100*np.pi\n",
        "f = w/(2*np.pi)\n",
        "T = 1/f\n",
        "t = np.linspace(0,3*T,1000)\n",
        "x = 3*np.cos(w*t)\n",
        "plt.plot(t,x)"
      ],
      "execution_count": 0,
      "outputs": [
        {
          "output_type": "execute_result",
          "data": {
            "text/plain": [
              "[<matplotlib.lines.Line2D at 0x7fd1871bbb70>]"
            ]
          },
          "metadata": {
            "tags": []
          },
          "execution_count": 24
        },
        {
          "output_type": "display_data",
          "data": {
            "image/png": "[encoded data removed]",
            "text/plain": [
              "<Figure size 432x288 with 1 Axes>"
            ]
          },
          "metadata": {
            "tags": [],
            "needs_background": "light"
          }
        }
      ]
    },
    {
      "cell_type": "markdown",
      "metadata": {
        "id": "nlNXmKyulsLw",
        "colab_type": "text"
      },
      "source": [
        "\n",
        "\n",
        "---\n",
        "\n"
      ]
    },
    {
      "cell_type": "markdown",
      "metadata": {
        "id": "QiEDpVKNpK3m",
        "colab_type": "text"
      },
      "source": [
        "##• **$x(t) = 2 sin(\\omega  t + \\pi ) = -2sin(\\omega t)$**\n",
        "\n",
        "Se hace $x(t+T)$\n",
        "$$x(t+T) = -2sin(\\omega (t+T) )$$\n",
        "\n",
        "$$-2sin(\\omega (t+T)) = -2[sin(\\omega (t))cos(\\omega(T))+sin(\\omega(T))cos(\\omega(t)]$$\n",
        "\n",
        "Se remplaza: $\\omega = \\frac{2\\pi}{T_o}$ con $T_o = T$\n",
        "\n",
        "$$-2sin(\\omega (t+T)) = -2[sin(\\omega t)cos(\\frac{2\\pi}{T}T)+sin(\\frac{2\\pi}{T}T)cos(\\omega t)]$$\n",
        "$$-2sin(\\omega (t+T)) = -2[sin(\\omega t)1+0]$$\n",
        "$$-2sin(\\omega (t+T)) = -2sin(\\omega t)$$\n",
        "\n",
        "Por lo tanto $x(t) = -2 sin(\\omega  t)  = -2sin(\\omega(t+T)) = -2sin(\\omega t) $ es periódica\n",
        "\n"
      ]
    },
    {
      "cell_type": "markdown",
      "metadata": {
        "id": "b6SbUStA1NQB",
        "colab_type": "text"
      },
      "source": [
        "###**Gráfico**"
      ]
    },
    {
      "cell_type": "code",
      "metadata": {
        "id": "zdvlRlHrkJ-A",
        "colab_type": "code",
        "outputId": "0732f901-72e9-4eeb-ae5d-c3f6c48c3db5",
        "colab": {
          "base_uri": "https://localhost:8080/",
          "height": 282
        }
      },
      "source": [
        "w = 100*np.pi\n",
        "f = w/(2*np.pi)\n",
        "T = 1/f\n",
        "t = np.linspace(0,3*T,1000)\n",
        "x = 2*np.sin(w*t+np.pi)\n",
        "plt.plot(t,x)"
      ],
      "execution_count": 0,
      "outputs": [
        {
          "output_type": "execute_result",
          "data": {
            "text/plain": [
              "[<matplotlib.lines.Line2D at 0x7fd18728f630>]"
            ]
          },
          "metadata": {
            "tags": []
          },
          "execution_count": 20
        },
        {
          "output_type": "display_data",
          "data": {
            "image/png": "[encoded data removed]",
            "text/plain": [
              "<Figure size 432x288 with 1 Axes>"
            ]
          },
          "metadata": {
            "tags": [],
            "needs_background": "light"
          }
        }
      ]
    },
    {
      "cell_type": "markdown",
      "metadata": {
        "id": "fxDKIkGolq4b",
        "colab_type": "text"
      },
      "source": [
        "\n",
        "\n",
        "---\n",
        "\n"
      ]
    },
    {
      "cell_type": "markdown",
      "metadata": {
        "id": "QHKTzDKIY7hl",
        "colab_type": "text"
      },
      "source": [
        "##•$ x(t) = 3 sin(\\sqrt{3}t) + 3 sin(5t)-2 cos(t/\\sqrt{3})$\n",
        "\n",
        "Revisando $\\omega $ para cada señal se observa como hay $\\sqrt{3}$, por lo tanto la función no es cuasiperiódica porque sus $\\omega $ no son números enteros.\n"
      ]
    },
    {
      "cell_type": "markdown",
      "metadata": {
        "id": "AP0DoM2f96z2",
        "colab_type": "text"
      },
      "source": [
        "###**Gráfico**"
      ]
    },
    {
      "cell_type": "code",
      "metadata": {
        "id": "7dkhd5mgZI0r",
        "colab_type": "code",
        "outputId": "b3a83a92-b6f8-419b-97fd-6f3944d0d588",
        "colab": {
          "base_uri": "https://localhost:8080/",
          "height": 282
        }
      },
      "source": [
        "w = 100*np.pi\n",
        "f = w/(2*np.pi)\n",
        "T = 6*np.pi\n",
        "t = np.linspace(0,3*T,1000)\n",
        "x = 3*np.sin(np.sqrt(3)*t)+3*np.sin(5*t)-2*np.cos(t/np.sqrt(3))\n",
        "plt.plot(t,x)"
      ],
      "execution_count": 0,
      "outputs": [
        {
          "output_type": "execute_result",
          "data": {
            "text/plain": [
              "[<matplotlib.lines.Line2D at 0x7f65aee3db38>]"
            ]
          },
          "metadata": {
            "tags": []
          },
          "execution_count": 17
        },
        {
          "output_type": "display_data",
          "data": {
            "image/png": "[encoded data removed]",
            "text/plain": [
              "<Figure size 432x288 with 1 Axes>"
            ]
          },
          "metadata": {
            "tags": [],
            "needs_background": "light"
          }
        }
      ]
    },
    {
      "cell_type": "markdown",
      "metadata": {
        "id": "tra9wvrElnrV",
        "colab_type": "text"
      },
      "source": [
        "\n",
        "\n",
        "---\n",
        "\n"
      ]
    },
    {
      "cell_type": "markdown",
      "metadata": {
        "id": "ShBM-U9NrTqF",
        "colab_type": "text"
      },
      "source": [
        "##•$ x(t) = 3 sin(4t) -  2 cos(50t) + 2 cos(10t)$\n",
        "\n",
        "Se hace $\\omega_1 = 4, \\omega_2 = 50, \\omega_3 = 10$\n",
        "\n",
        "\n",
        "$\\frac{\\omega_1}{\\omega_2}, \\frac{\\omega_2}{\\omega_3}, \\frac{\\omega_3}{\\omega_1}\n",
        "$ \n",
        "\n",
        "\n",
        "$\\frac{4}{50} , \\frac{50}{10}, \\frac{10}{4}$ son entero sobre entero, entonces la funcion es cuasiperiódica\n",
        "\n",
        "\n",
        "Se encuentran los periodos:\n",
        "\n",
        "\n",
        "$T_1 = \\frac{\\pi}{2}; T_2 = \\frac{\\pi}{25}; T_3 = \\frac{\\pi}{5}$\n",
        "\n",
        "\n",
        "$$T_1k_1=T_2k_2=T_3k_3=T$$\n",
        "\n",
        "\n",
        "$$ \\frac{\\pi}{2}k_1 = \\frac{\\pi}{25}k_2 = \\frac{\\pi}{5}k_3 = T$$\n",
        "\n",
        "Se multiplica por $50$ y se divide entre $\\pi$, teniendo que encontrar el mcm de 25, 2, 10 el cuál es ***50***.\n",
        "\n",
        "Ahora, con la expresión: \n",
        "\n",
        "$$25k_1=2k_2=10k_3=50$$ se obtiene los valores de $k_1,k_2$ y $k_3$\n",
        "\n",
        "$k_1 = 2$\n",
        "\n",
        "$k_2 = 25$\n",
        "\n",
        "$k_3 = 5$\n",
        "\n",
        "Al reemplazar: $$2\\frac{\\pi}{2} = 25\\frac{\\pi}{25} = 5\\frac{\\pi}{5} = T$$\n",
        "\n",
        "$$T = \\pi$$\n",
        "\n"
      ]
    },
    {
      "cell_type": "markdown",
      "metadata": {
        "id": "U0IEvPZx10gj",
        "colab_type": "text"
      },
      "source": [
        "###**Gráfico**"
      ]
    },
    {
      "cell_type": "code",
      "metadata": {
        "id": "Z0u9betS2APK",
        "colab_type": "code",
        "outputId": "b21be2bd-8b33-4694-dbe0-523d2fdf3d93",
        "colab": {
          "base_uri": "https://localhost:8080/",
          "height": 282
        }
      },
      "source": [
        "T = np.pi\n",
        "N = 1000\n",
        "t = np.linspace(0,3*T,N)\n",
        "x = 3*np.sin(4*t) - 2*np.cos(50*t) + 2*np.cos(10*t)\n",
        "plt.plot(t,x)"
      ],
      "execution_count": 0,
      "outputs": [
        {
          "output_type": "execute_result",
          "data": {
            "text/plain": [
              "[<matplotlib.lines.Line2D at 0x7fd18721aa20>]"
            ]
          },
          "metadata": {
            "tags": []
          },
          "execution_count": 22
        },
        {
          "output_type": "display_data",
          "data": {
            "image/png": "[encoded data removed]",
            "text/plain": [
              "<Figure size 432x288 with 1 Axes>"
            ]
          },
          "metadata": {
            "tags": [],
            "needs_background": "light"
          }
        }
      ]
    },
    {
      "cell_type": "markdown",
      "metadata": {
        "id": "H599K-2NlmLm",
        "colab_type": "text"
      },
      "source": [
        "\n",
        "\n",
        "---\n",
        "\n"
      ]
    },
    {
      "cell_type": "markdown",
      "metadata": {
        "id": "WI8T5Lzjh_HU",
        "colab_type": "text"
      },
      "source": [
        "##• $x(t) = e^{j\\omega  t}$\n",
        "\n",
        "Se convierte la funcion en senos y cosenos complejos:\n",
        "\n",
        "$$x(t) = e^{j\\omega  t} = Cos(\\omega t) + j Sen (\\omega t)$$\n",
        "\n",
        "Se hace $x(t-T)$\n",
        "\n",
        "$$x(t-T) = e^{j\\omega  (t-t)} = Cos(\\omega (t-T)) + j Sen (\\omega (t-T))$$\n",
        "\n",
        "$$x(t-T) = [Cos(\\omega t) Cos(\\omega T)+Sen (\\omega t)Sen (\\omega T)] + j [Sen (\\omega t)Cos(\\omega T)-Cos(\\omega t)Sen (\\omega T)]$$\n",
        "\n",
        "Se remplaza: $\\omega = \\frac{2\\pi}{T_o}$ con $T_o = T$\n",
        "\n",
        "$$x(t-T) = [Cos(\\omega t) Cos(\\frac{2\\pi}{T} T)+Sen (\\omega t)Sen (\\frac{2\\pi}{T} T)] + j [Sen (\\omega t)Cos(\\frac{2\\pi}{T} T)-Cos(\\omega t)Sen (\\frac{2\\pi}{T} T)]$$\n",
        "\n",
        "$$x(t-T) = [Cos(\\omega t) 1+0] + j [Sen (\\omega t)1-0]$$\n",
        "\n",
        "$$x(t-T) = e^{j\\omega  (t-t)} = Cos(\\omega t) + j Sen (\\omega t)$$\n",
        "\n"
      ]
    },
    {
      "cell_type": "markdown",
      "metadata": {
        "id": "87Gy4Qol-FMk",
        "colab_type": "text"
      },
      "source": [
        "###**Gráfico**"
      ]
    },
    {
      "cell_type": "code",
      "metadata": {
        "id": "5beSRAGWiLn5",
        "colab_type": "code",
        "outputId": "56d5c238-05b2-46d8-e4e7-b796513741a1",
        "colab": {
          "base_uri": "https://localhost:8080/",
          "height": 318
        }
      },
      "source": [
        "w = 100*np.pi\n",
        "f = w/(2*np.pi)\n",
        "T = 1/f\n",
        "t = np.linspace(0,3*T,1000)\n",
        "x = np.exp(w*(0+1j)*t)\n",
        "plt.plot(t,x)"
      ],
      "execution_count": 0,
      "outputs": [
        {
          "output_type": "stream",
          "text": [
            "/usr/local/lib/python3.6/dist-packages/numpy/core/_asarray.py:85: ComplexWarning: Casting complex values to real discards the imaginary part\n",
            "  return array(a, dtype, copy=False, order=order)\n"
          ],
          "name": "stderr"
        },
        {
          "output_type": "execute_result",
          "data": {
            "text/plain": [
              "[<matplotlib.lines.Line2D at 0x7fd1871343c8>]"
            ]
          },
          "metadata": {
            "tags": []
          },
          "execution_count": 29
        },
        {
          "output_type": "display_data",
          "data": {
            "image/png": "[encoded data removed]",
            "text/plain": [
              "<Figure size 432x288 with 1 Axes>"
            ]
          },
          "metadata": {
            "tags": [],
            "needs_background": "light"
          }
        }
      ]
    },
    {
      "cell_type": "markdown",
      "metadata": {
        "id": "Hv_eYC7OljeN",
        "colab_type": "text"
      },
      "source": [
        "\n",
        "\n",
        "---\n",
        "\n"
      ]
    },
    {
      "cell_type": "markdown",
      "metadata": {
        "id": "_pjlBTeuTfMG",
        "colab_type": "text"
      },
      "source": [
        "#**3. Senales de energía y potencia**\n",
        "\n",
        "# Clasifique segun su tipo (energía o potencia):\n",
        "\n",
        "\n",
        "*   $x(t) = - 3t + 1; \\forall t \\in  [0, 5]$\n",
        "*   $x(t) = A cos(\\omega  t) + B sin(\\omega  t); A, B, \\omega   \\in  \\mathbb{R}^+$\n",
        "*   $x(t) = ate^{- tk} (u(t) -  u(t -  t_o)) ; a, k\\in \\mathbb{R}; t_o > 0$\n",
        "*   $x[n] = nu[n]; n \\in  {0, \\pm  1, \\pm  2, . . . , \\pm  N}$\n",
        "*   $x[n] = cos[n\\pi ] + sin[2n\\pi /3]; n \\in  {0, 1, . . . , N}; N \\in  \\mathbb{N}$\n",
        "*   $x[n] = A cos[n\\pi ]u[n -  n_o]; A \\in  \\mathbb{R}^+$ y $n \\in  {0 \\pm  1, \\pm  2, . . . , \\pm  N}; 0 < n_o < N$\n"
      ]
    },
    {
      "cell_type": "markdown",
      "metadata": {
        "id": "PceuXSBzULcg",
        "colab_type": "text"
      },
      "source": [
        "#**•$x(t) = - 3t + 1; \\forall t \\in  [0, 5]$**\n",
        "\n",
        "Con la ecuacion de energía:\n",
        "\n",
        "$$Ex = \\int_{T} {\\mid x(t)\\mid}^{2}dt $$\n",
        "\n",
        "Hallamos la energía de la función:\n",
        "\n",
        "$$Ex = \\int_{0}^{5} {\\mid(-3t+1)\\mid}^{2}dt  $$\n",
        "\n",
        "$$Ex = \\int_{0}^{5} {\\mid(9t^2-6t^2+1)\\mid}dt  $$\n",
        "\n",
        "$$Ex = \\int_{0}^{5} {9t^2} dt- \\int_{0}^{5} {6t^2} dt+ \\int_{0}^{5} {1}dt  $$\n",
        "\n",
        "$$Ex = \\frac{9t^3}{3}\\Big|_0^5 -\\frac{6t^2}{2}\\Big|_0^5 + t \\Big|_0^5  $$\n",
        "\n",
        "$$Ex = 375 -75 +5 = 305 $$\n",
        "\n",
        "Como $ Ex= 305 \\rightarrow 0 < 305 < \\infty $ La señal es de energia.\n"
      ]
    },
    {
      "cell_type": "code",
      "metadata": {
        "id": "04AV8QKheAXL",
        "colab_type": "code",
        "outputId": "a69d4d58-2376-493a-b19a-9fb0d0ea9733",
        "colab": {
          "base_uri": "https://localhost:8080/",
          "height": 34
        }
      },
      "source": [
        "import sympy as sp\n",
        "from sympy import init_printing\n",
        "init_printing()\n",
        "t= sp.symbols('t', real = True)\n",
        "a= (sp.Abs(3*t-1))**2\n",
        "ai = sp.integrate(a,(t,0,5))\n",
        "ai"
      ],
      "execution_count": 0,
      "outputs": [
        {
          "output_type": "execute_result",
          "data": {
            "image/png": "[encoded data removed]",
            "text/latex": "$$305$$",
            "text/plain": [
              "305"
            ]
          },
          "metadata": {
            "tags": []
          },
          "execution_count": 37
        }
      ]
    },
    {
      "cell_type": "markdown",
      "metadata": {
        "id": "jBI0bjKwe7-d",
        "colab_type": "text"
      },
      "source": [
        "$$305$$"
      ]
    },
    {
      "cell_type": "markdown",
      "metadata": {
        "id": "AWF_jufH-ntH",
        "colab_type": "text"
      },
      "source": [
        "###Gráfica"
      ]
    },
    {
      "cell_type": "code",
      "metadata": {
        "id": "6EiiVfVVgzNq",
        "colab_type": "code",
        "outputId": "1e1de3a3-84b1-4622-db3c-c04bbf6dcd53",
        "colab": {
          "base_uri": "https://localhost:8080/",
          "height": 282
        }
      },
      "source": [
        "t90 = np.linspace(0,5,1000)\n",
        "x = 3*t90-1\n",
        "plt.plot(t90,x)"
      ],
      "execution_count": 0,
      "outputs": [
        {
          "output_type": "execute_result",
          "data": {
            "text/plain": [
              "[<matplotlib.lines.Line2D at 0x7fd186eb1be0>]"
            ]
          },
          "metadata": {
            "tags": []
          },
          "execution_count": 36
        },
        {
          "output_type": "display_data",
          "data": {
            "image/png": "[encoded data removed]",
            "text/plain": [
              "<Figure size 432x288 with 1 Axes>"
            ]
          },
          "metadata": {
            "tags": [],
            "needs_background": "light"
          }
        }
      ]
    },
    {
      "cell_type": "markdown",
      "metadata": {
        "id": "JT2R8lcYlhIA",
        "colab_type": "text"
      },
      "source": [
        "\n",
        "\n",
        "---\n",
        "\n"
      ]
    },
    {
      "cell_type": "markdown",
      "metadata": {
        "id": "4kCu5zI6hOAX",
        "colab_type": "text"
      },
      "source": [
        "#**•$x(t) = A cos(\\omega  t) + B sin(\\omega  t); A, B, \\omega   \\in  \\mathbb{R}+$**\n",
        "\n",
        "Con la ecuacion de energía:\n",
        "\n",
        "$$E_x = \\int_{T} {\\mid x(t)\\mid}^{2}dt $$\n",
        "\n",
        "Hallamos la energía de la función:\n",
        "\n",
        "$$E_x = \\int_{-\\frac{T_0}{2}}^{\\frac{T_0}{2}} {\\mid(A cos(\\omega  t) + B sin(\\omega  t))\\mid}^{2}dt \\rightarrow T_0 = \\frac{2 \\pi}{\\omega}   $$\n",
        "\n",
        "$$E_x = \\int_{-\\frac{T_0}{2}}^{\\frac{T_0}{2}} {\\mid(A^2 cos^2(\\omega  t) + 2AB sin(\\omega  t)cos(\\omega  t)+sin^2(\\omega  t))\\mid}dt  $$\n",
        "\n",
        "$$E_x = A^2 \\int_{-\\frac{T_0}{2}}^{\\frac{T_0}{2}}  cos^2(\\omega  t) dt + 2AB  \\int_{-\\frac{T_0}{2}}^{\\frac{T_0}{2}} sin(\\omega  t)cos(\\omega  t) dt + B^2 \\int_{-\\frac{T_0}{2}}^{\\frac{T_0}{2}}  sin^2(\\omega  t)dt  $$\n",
        "\n",
        "$$E_x =  [\\frac{A^2}{2}t+\\frac{A^2}{4 \\omega}\\sin (2\\omega t)) ]\\Big|_{-\\frac{T_0}{2}}^{\\frac{T_0}{2}} -[\\frac{AB}{2 \\omega}\\cos (2 \\omega t) ]\\Big|_{-\\frac{T_0}{2}}^{\\frac{T_0}{2}}  +  [\\frac{B^2}{2}t+\\frac{B^2}{4 \\omega}\\sin (2\\omega t)) ]\\Big|_{-\\frac{T_0}{2}}^{\\frac{T_0}{2}}$$\n",
        "\n",
        "$$E_x = \\frac{A^2}{2}T_0 + \\frac{B^2}{2}T_0 = \\frac{T_0}{2}(A^2 + B^2)$$\n",
        "\n",
        "$$ E_x = \\lim_{T_0 \\to \\infty} \\frac{T_0}{2}(A^2 + B^2) = \\infty$$\n",
        "\n",
        "• El límite va hacia el infinito, entonces $x(t)$ no es de energía.\n",
        "\n",
        "\n",
        "Ahora con la ecuacion de potencia:\n",
        "\n",
        "$$P_x = \\frac{E_x}{T_0} $$\n",
        "\n",
        "Calculamos la potencia:\n",
        "\n",
        "$$P_x = \\frac{ \\frac{T_0}{2}(A^2 + B^2)}{T_0} $$\n",
        "\n",
        "$$P_x = \\frac{ (A^2 + B^2)}{2} $$\n",
        "\n",
        "$$P_x = \\lim_{T_0 \\to \\infty}  \\frac{ (A^2 + B^2)}{2} = \\frac{ 1}{2}(A^2 + B^2)< \\infty $$\n",
        "\n",
        "La señal $x(t)$ es de potencia"
      ]
    },
    {
      "cell_type": "markdown",
      "metadata": {
        "id": "i20Pi0c2_EOt",
        "colab_type": "text"
      },
      "source": [
        "###Gráfica"
      ]
    },
    {
      "cell_type": "code",
      "metadata": {
        "id": "_Lmjy_ykyFjW",
        "colab_type": "code",
        "outputId": "05052d92-cf5b-4b45-8954-b05893d6717d",
        "colab": {
          "base_uri": "https://localhost:8080/",
          "height": 282
        }
      },
      "source": [
        "import numpy as np\n",
        "import matplotlib.pyplot as plt\n",
        "w = 100*np.pi\n",
        "f = w/(2*np.pi)\n",
        "T = 1/f\n",
        "t = np.linspace(0,3*T,1000)\n",
        "A=2\n",
        "B=1\n",
        "x = A*np.sin(w*t)+B*np.cos(w*t)\n",
        "\n",
        "plt.plot(t,x)\n"
      ],
      "execution_count": 0,
      "outputs": [
        {
          "output_type": "execute_result",
          "data": {
            "text/plain": [
              "[<matplotlib.lines.Line2D at 0x7fa241eeaf98>]"
            ]
          },
          "metadata": {
            "tags": []
          },
          "execution_count": 26
        },
        {
          "output_type": "display_data",
          "data": {
            "image/png": "[encoded data removed]",
            "text/plain": [
              "<Figure size 432x288 with 1 Axes>"
            ]
          },
          "metadata": {
            "tags": [],
            "needs_background": "light"
          }
        }
      ]
    },
    {
      "cell_type": "markdown",
      "metadata": {
        "id": "YTDHHIRflfZB",
        "colab_type": "text"
      },
      "source": [
        "\n",
        "\n",
        "---\n",
        "\n"
      ]
    },
    {
      "cell_type": "markdown",
      "metadata": {
        "id": "s2tTE9WQ6ter",
        "colab_type": "text"
      },
      "source": [
        "#**•$x(t) = ate^{- tk} (u(t) -  u(t -  t_o)) ; a, k\\in \\mathbb{R}; t_o > 0$**#\n",
        "\n",
        "Con la ecuacion de energía:\n",
        "\n",
        "$$E_x = \\int_{T} {\\mid x(t)\\mid}^{2}dt $$\n",
        "\n",
        "Hallamos la energía de la función:\n",
        "\n",
        "$$E_x = \\int_{-\\infty}^{\\infty} {\\mid(ate^{- kt} (u(t) -  u(t -  t_o)))\\mid}^{2}dt $$\n",
        "\n",
        "$$E_x = \\int_{0}^{t_o} {\\mid ate^{- kt} \\mid}^{2}dt $$\n",
        "\n",
        "$$E_x = \\int_{0}^{t_o} a^2 t^2 e^{- 2kt} dt $$\n",
        "\n",
        "$$E_x = a^2[-\\frac{t^2}{2k}e^{-2kt} - \\frac{t}{2k^2}e^{-2kt}- \\frac{1}{2k^2}e^{-2kt} ] \\Big|_{0}^{t_o} $$\n",
        "\n",
        "$$E_x = [-\\frac{a^2e^{-2kt}\\left(2k^2t^2+2kt+1\\right)}{4k^3}] \\Big|_{0}^{t_o} $$\n",
        "\n",
        "$$ E_x = -\\frac{a^2\\left(2k^2e^{-2kt_o}t_o^2+e^{-2kt_o}\\left(2kt_o+1\\right)-1\\right)}{4k^3}$$\n",
        "\n",
        "$$ E_x = \\lim_{t_o \\to \\infty}-\\frac{a^2\\left(2k^2e^{-2kt_o}t_o^2+e^{-2kt_o}\\left(2kt_o+1\\right)-1\\right)}{4k^3} =   \n",
        "\\begin{cases} \\frac{a^2}{4k^3}  & \\text{para}\\: K > 0 \\\\\\ \\infty & \\text{para}\\: K < 0 \\end{cases}\n",
        "$$\n",
        "\n",
        "\n",
        "•Por lo tanto para $k>0$ la señal $x(t)$ es de energía\n",
        "\n",
        "• Y para $k<0$ la señal $x(t)$ no es de energía\n",
        "\n",
        "\n",
        "Ahora con la ecuacion de potencia:\n",
        "\n",
        "$$P_x = \\frac{E_x}{T_0} $$\n",
        "\n",
        "Calculamos la potencia:\n",
        "$$P_x =  -\\frac{1}{t_o} \\frac{a^2\\left(2k^2e^{-2kt_o}t_o^2+e^{-2kt_o}\\left(2kt_o+1\\right)-1\\right)}{4k^3}$$\n",
        "\n",
        "$$P_x = \\lim_{t_o \\to \\infty} -\\frac{1}{t_o} \\frac{a^2\\left(2k^2e^{-2kt_o}t_o^2+e^{-2kt_o}\\left(2kt_o+1\\right)-1\\right)}{4k^3} =\n",
        "\\begin{cases} 0  & \\text{para}\\: K > 0 \\\\\\ \\infty & \\text{para}\\: K < 0 \\end{cases}\n",
        " $$\n",
        "\n",
        "• Por lo tanto para $k>0$ la señal $x(t)$ es de energía.\n",
        "\n",
        "• Y para $k<0$ la señal $x(t)$ no es de energia ni de potencia.\n",
        "\n"
      ]
    },
    {
      "cell_type": "markdown",
      "metadata": {
        "id": "phK9OYfx_VNU",
        "colab_type": "text"
      },
      "source": [
        "###Gráfica"
      ]
    },
    {
      "cell_type": "code",
      "metadata": {
        "id": "txaKTWOyy3fU",
        "colab_type": "code",
        "outputId": "e3c4c379-a82f-469c-8233-5ccf78510b36",
        "colab": {
          "base_uri": "https://localhost:8080/",
          "height": 410
        }
      },
      "source": [
        "import sympy as sp\n",
        "from sympy import init_printing\n",
        "init_printing()\n",
        "t,a = sp.symbols('t a', real = True)\n",
        "to = sp.symbols('to', positive = True)\n",
        "k = sp.symbols('k',positive = True)\n",
        "f = a*t*sp.exp(-t*k)*(sp.Heaviside(t)-sp.Heaviside(t-to))\n",
        "sp.plot(f.subs({a: 1, k : .6, to : 7}),(t,-1,9))\n",
        "f"
      ],
      "execution_count": 0,
      "outputs": [
        {
          "output_type": "stream",
          "text": [
            "/usr/local/lib/python3.6/dist-packages/sympy/plotting/plot.py:890: MatplotlibDeprecationWarning: \n",
            "The set_smart_bounds function was deprecated in Matplotlib 3.2 and will be removed two minor releases later.\n",
            "  self.ax.spines['left'].set_smart_bounds(True)\n",
            "/usr/local/lib/python3.6/dist-packages/sympy/plotting/plot.py:891: MatplotlibDeprecationWarning: \n",
            "The set_smart_bounds function was deprecated in Matplotlib 3.2 and will be removed two minor releases later.\n",
            "  self.ax.spines['bottom'].set_smart_bounds(False)\n"
          ],
          "name": "stderr"
        },
        {
          "output_type": "display_data",
          "data": {
            "image/png": "[encoded data removed]",
            "text/plain": [
              "<Figure size 432x288 with 1 Axes>"
            ]
          },
          "metadata": {
            "tags": [],
            "needs_background": "light"
          }
        },
        {
          "output_type": "execute_result",
          "data": {
            "image/png": "[encoded data removed]",
            "text/latex": "$$a t \\left(\\theta\\left(t\\right) - \\theta\\left(t - to\\right)\\right) e^{- k t}$$",
            "text/plain": [
              "                                        -k⋅t\n",
              "a⋅t⋅(Heaviside(t) - Heaviside(t - to))⋅ℯ    "
            ]
          },
          "metadata": {
            "tags": []
          },
          "execution_count": 41
        }
      ]
    },
    {
      "cell_type": "markdown",
      "metadata": {
        "id": "81sVS6y_ldMG",
        "colab_type": "text"
      },
      "source": [
        "\n",
        "\n",
        "---\n",
        "\n"
      ]
    },
    {
      "cell_type": "markdown",
      "metadata": {
        "id": "KXEPKmiGdh1b",
        "colab_type": "text"
      },
      "source": [
        "#**•  $x[n] = nu[n]; n \\in  {0, \\pm  1, \\pm  2, . . . , \\pm  N}$**\n",
        "\n",
        "\n",
        "Con la ecuacion de energía:\n",
        "\n",
        "$$E_x = \\lim_{N \\to \\infty} \\sum_{n=-N}^{N} {\\mid x[n]\\mid}^{2} $$\n",
        "\n",
        "Hallamos la energía de la función:\n",
        "\n",
        " $$E_x = \\lim_{N \\to \\infty} \\sum_{n=-N}^{N}\\mid nu[n]\\mid^2 = \\lim_{N \\to \\infty} \\sum_{n=0}^{N}n^2 = \\lim_{N \\to \\infty} (\\frac{1}{6}N\\left(N+1\\right)\\left(2N+1\\right) )= \\infty$$\n",
        "\n",
        "• El límite va hacia el infinito, entonces $x[n]$ no es de energía.\n",
        "\n",
        "Ahora con la ecuacion de potencia:\n",
        "\n",
        "$$P_x = \\lim_{N \\to \\infty} \\frac{1}{2N+1} \\sum_{n=-N}^{N} {\\mid x[n]\\mid}^{2} $$\n",
        "\n",
        "Calculamos la potencia:\n",
        "$$P_x = \\lim_{N \\to \\infty}(\\frac{1}{2N+1}\\sum_{n=-N}^{N} \\mid nu[n]\\mid^2) = \\lim_{N \\to \\infty}(\\frac{1}{2N+1} \\frac{1}{6}N\\left(N+1\\right)\\left(2N+1\\right)) = \\lim_{N \\to \\infty} (\\frac{1}{6}N\\left(N+1\\right)) = \\infty $$ \n",
        "\n",
        "• El límite va hacia el infinito, entonces $x[n]$ no es de energía ni de potencia."
      ]
    },
    {
      "cell_type": "markdown",
      "metadata": {
        "id": "14P_wTKclBLl",
        "colab_type": "text"
      },
      "source": [
        "##Gráfica"
      ]
    },
    {
      "cell_type": "code",
      "metadata": {
        "id": "k9MOp3kvlS0q",
        "colab_type": "code",
        "outputId": "01742cf2-ea3d-432a-f264-ffb2d1d37cda",
        "colab": {
          "base_uri": "https://localhost:8080/",
          "height": 338
        }
      },
      "source": [
        "import numpy as np\n",
        "import matplotlib.pyplot as plt\n",
        "N = 50\n",
        "n = np.arange(0,N,1)\n",
        "x = n*np.heaviside(n,0)\n",
        "plt.stem(n,x)"
      ],
      "execution_count": 0,
      "outputs": [
        {
          "output_type": "stream",
          "text": [
            "/usr/local/lib/python3.6/dist-packages/ipykernel_launcher.py:6: UserWarning: In Matplotlib 3.3 individual lines on a stem plot will be added as a LineCollection instead of individual lines. This significantly improves the performance of a stem plot. To remove this warning and switch to the new behaviour, set the \"use_line_collection\" keyword argument to True.\n",
            "  \n"
          ],
          "name": "stderr"
        },
        {
          "output_type": "execute_result",
          "data": {
            "text/plain": [
              "<StemContainer object of 3 artists>"
            ]
          },
          "metadata": {
            "tags": []
          },
          "execution_count": 1
        },
        {
          "output_type": "display_data",
          "data": {
            "image/png": "[encoded data removed]",
            "text/plain": [
              "<Figure size 432x288 with 1 Axes>"
            ]
          },
          "metadata": {
            "tags": [],
            "needs_background": "light"
          }
        }
      ]
    },
    {
      "cell_type": "markdown",
      "metadata": {
        "id": "rQhMnr0yl2av",
        "colab_type": "text"
      },
      "source": [
        "\n",
        "\n",
        "---\n",
        "\n"
      ]
    },
    {
      "cell_type": "markdown",
      "metadata": {
        "id": "ERxG3QuWl3N4",
        "colab_type": "text"
      },
      "source": [
        "#**•$x[n] = cos[n\\pi ] + sin[2n\\pi /3]; n \\in  {0, 1, . . . , N}; N \\in  \\mathbb{N}$**\n",
        "\n",
        "Con la ecuacion de energía:\n",
        "\n",
        "$$E_x = \\lim_{N \\to \\infty} \\sum_{n=-N}^{N} {\\mid x[n]\\mid}^{2} $$\n",
        "\n",
        "Hallamos la energía de la función:\n",
        "\n",
        " $$E_x = \\lim_{N \\to \\infty} \\sum_{n=0}^{N}\\mid cos[n\\pi ] + sin[\\frac {2n\\pi} {3}]\\mid^2 $$\n",
        " $$E_x = \\lim_{N \\to \\infty} \\sum_{n=0}^{N}\\mid cos^2[n\\pi ] + 2cos[n\\pi ]sin[\\frac {2n\\pi} {3}] + sin^2[\\frac {2n\\pi} {3}] \\mid $$\n",
        "  \n",
        "  $$E_x = \\lim_{N \\to \\infty} \\sum_{n=0}^{N} ((-1)^n)^2+ 2(-1)^nsin[\\frac {2n\\pi} {3}] + sin^2[\\frac {2n\\pi} {3}]  = \\lim_{N \\to \\infty} \\sum_{n=0}^{N} 1 +2(-1)^nsin[\\frac {2n\\pi} {3}] + sin^2[\\frac {2n\\pi} {3}] $$\n",
        "\n",
        "$$ E_x = \\lim_{N \\to \\infty} N+1   \\sum_{n=0}^{N} 2(-1)^nsin[\\frac {2n\\pi} {3}] + sin^2[\\frac {2n\\pi} {3}] = \\infty $$\n",
        "\n",
        "• El límite va hacia el infinito, entonces $x[n]$ no es de energía.\n",
        "\n",
        "Ahora con la ecuacion de potencia:\n",
        "\n",
        "$$P_x = \\lim_{N \\to \\infty} \\frac{1}{2N+1} \\sum_{n=-N}^{N} {\\mid x[n]\\mid}^{2} $$\n",
        "\n",
        "Calculamos la potencia:\n",
        "$$P_x = \\lim_{N \\to \\infty}(\\frac{1}{N+1}\\sum_{n=0}^{N} \\mid cos[n\\pi ] + sin[\\frac {2n\\pi} {3}\\mid^2) $$\n",
        "$$ P_x = \\lim_{N \\to \\infty} \\frac {N+1   \\sum_{n=0}^{N} 2(-1)^nsin[\\frac {2n\\pi} {3}] + sin^2[\\frac {2n\\pi} {3}]}{N+1}$$\n",
        "$$ P_x = \\lim_{N \\to \\infty} 1 +\\frac { \\sum_{n=0}^{N} 2(-1)^nsin[\\frac {2n\\pi} {3}] + sin^2[\\frac {2n\\pi} {3}]}{N+1} = 1$$\n",
        "\n",
        "• El límite tiende a una constante donde $0<P_x<\\infty $, entonces $x[n]$ es potencia."
      ]
    },
    {
      "cell_type": "code",
      "metadata": {
        "id": "FJQgV8TjsM7U",
        "colab_type": "code",
        "outputId": "1f1e0205-489a-411d-c757-561adf186059",
        "colab": {
          "base_uri": "https://localhost:8080/",
          "height": 338
        }
      },
      "source": [
        "import numpy as np\n",
        "import matplotlib.pyplot as plt\n",
        "T = 6\n",
        "F = 1/T\n",
        "Fs= 4*F\n",
        "Ts=1/Fs\n",
        "n = np.arange(0,3*T,Ts)\n",
        "f = np.cos(n*np.pi)+np.sin(2*n*np.pi/3)\n",
        "plt.stem(n,f)"
      ],
      "execution_count": 15,
      "outputs": [
        {
          "output_type": "stream",
          "text": [
            "/usr/local/lib/python3.6/dist-packages/ipykernel_launcher.py:9: UserWarning: In Matplotlib 3.3 individual lines on a stem plot will be added as a LineCollection instead of individual lines. This significantly improves the performance of a stem plot. To remove this warning and switch to the new behaviour, set the \"use_line_collection\" keyword argument to True.\n",
            "  if __name__ == '__main__':\n"
          ],
          "name": "stderr"
        },
        {
          "output_type": "execute_result",
          "data": {
            "text/plain": [
              "<StemContainer object of 3 artists>"
            ]
          },
          "metadata": {
            "tags": []
          },
          "execution_count": 15
        },
        {
          "output_type": "display_data",
          "data": {
            "image/png": "[encoded data removed]",
            "text/plain": [
              "<Figure size 432x288 with 1 Axes>"
            ]
          },
          "metadata": {
            "tags": [],
            "needs_background": "light"
          }
        }
      ]
    },
    {
      "cell_type": "markdown",
      "metadata": {
        "id": "ttOv7ZvKuJ2h",
        "colab_type": "text"
      },
      "source": [
        "\n",
        "\n",
        "---\n",
        "\n"
      ]
    },
    {
      "cell_type": "markdown",
      "metadata": {
        "id": "DlFjA5ws_8SY",
        "colab_type": "text"
      },
      "source": [
        "#**•$x[n] = A cos[n\\pi ]u[n -  n_o]; A \\in  \\mathbb{R}^+$ y $n \\in  {0 \\pm  1, \\pm  2, . . . , \\pm  N}; 0 < n_o < N$**\n",
        "\n",
        "\n",
        "Con la ecuacion de energía:\n",
        "\n",
        "$$E_x = \\lim_{N \\to \\infty} \\sum_{n=-N}^{N} {\\mid x[n]\\mid}^{2} $$\n",
        "\n",
        "Hallamos la energía de la función:\n",
        "\n",
        " $$E_x = \\lim_{N \\to \\infty} \\sum_{n=-N}^{N}\\mid A cos[n\\pi ]u[n -  n_o]\\mid^2 =  \\lim_{N \\to \\infty} \\sum_{n=n_o}^{N}\\mid A cos[n\\pi ]\\mid^2 $$\n",
        " $$E_x = A^2 \\lim_{N \\to \\infty} \\sum_{n=n_o}^{N}cos^2[n\\pi ] = A^2 \\lim_{N \\to \\infty} \\sum_{n=n_o}^{N} ((-1)^n)^2= A^2 \\lim_{N \\to \\infty} \\sum_{n=n_o}^{N} 1 $$\n",
        " $$ E_x  = A^2 \\lim_{N \\to \\infty} N-n_o + 1 = \\infty $$\n",
        "\n",
        " • El límite va hacia el infinito, entonces $x[n]$ no es de energía.\n",
        "\n",
        "Ahora con la ecuacion de potencia:\n",
        "\n",
        "$$P_x = \\lim_{N \\to \\infty} \\frac{1}{2N+1} \\sum_{n=-N}^{N} {\\mid x[n]\\mid}^{2} $$\n",
        "\n",
        "Calculamos la potencia:\n",
        "$$P_x = \\lim_{N \\to \\infty}(\\frac{1}{2N+1}\\sum_{n=n_o}^{N} \\mid A cos[n\\pi ]\\mid^2) = A^2 \\lim_{N \\to \\infty}(\\frac{N-n_o + 1}{2N+1}    ) = \\begin{cases} 0  & \\text{para}\\: A = 0 \\\\ \\frac{A^2}{2} & \\text{para}\\: A \\not= 0 \\end{cases} $$\n",
        "\n",
        "\n",
        "  \n",
        "• Por lo tanto para $A=0$ la señal $x[n]$ no es de Energía ni de Potencia.\n",
        "\n",
        "• Y para $A \\not= 0$ la señal $x[n]$ es de Potencia.\n"
      ]
    },
    {
      "cell_type": "markdown",
      "metadata": {
        "id": "sCWybiBVUQuX",
        "colab_type": "text"
      },
      "source": [
        "##Simulación Potencia"
      ]
    },
    {
      "cell_type": "code",
      "metadata": {
        "id": "XsmC1qtxHsnk",
        "colab_type": "code",
        "outputId": "cfd1112a-3647-4e7a-f5ed-9eb03114e262",
        "colab": {
          "base_uri": "https://localhost:8080/",
          "height": 34
        }
      },
      "source": [
        "import sympy as sp\n",
        "from sympy import init_printing\n",
        "init_printing()\n",
        "no, N = sp.symbols('no N', positive = True)\n",
        "A = sp.symbols('A', real = True)\n",
        "\n",
        "a= (A**2)*(1/(2*N+1))*(N-no+1)\n",
        "ai = sp.limit(a,N,sp.oo)\n",
        "ai"
      ],
      "execution_count": 0,
      "outputs": [
        {
          "output_type": "execute_result",
          "data": {
            "image/png": "[encoded data removed]",
            "text/latex": "$$\\frac{A^{2}}{2}$$",
            "text/plain": [
              " 2\n",
              "A \n",
              "──\n",
              "2 "
            ]
          },
          "metadata": {
            "tags": []
          },
          "execution_count": 24
        }
      ]
    },
    {
      "cell_type": "markdown",
      "metadata": {
        "id": "CmVI5At4JJmJ",
        "colab_type": "text"
      },
      "source": [
        "$$\\frac{A^{2}}{2}$$"
      ]
    },
    {
      "cell_type": "markdown",
      "metadata": {
        "id": "lzc_U3hSUapV",
        "colab_type": "text"
      },
      "source": [
        "##Gráfica"
      ]
    },
    {
      "cell_type": "code",
      "metadata": {
        "id": "IJmgj5-gUd9o",
        "colab_type": "code",
        "outputId": "d1dae0ce-ab92-4732-8f37-cde0e728daea",
        "colab": {
          "base_uri": "https://localhost:8080/",
          "height": 338
        }
      },
      "source": [
        "import numpy as np\n",
        "import matplotlib.pyplot as plt\n",
        "T = 2\n",
        "A = 5\n",
        "F = 1/T\n",
        "Fs = 2*F\n",
        "no = 2*T\n",
        "n = np.arange(0,5*T,Fs)\n",
        "u = n >= no\n",
        "f = A*np.cos(n*np.pi)*u\n",
        "plt.stem(n,f)\n"
      ],
      "execution_count": 0,
      "outputs": [
        {
          "output_type": "stream",
          "text": [
            "/usr/local/lib/python3.6/dist-packages/ipykernel_launcher.py:11: UserWarning: In Matplotlib 3.3 individual lines on a stem plot will be added as a LineCollection instead of individual lines. This significantly improves the performance of a stem plot. To remove this warning and switch to the new behaviour, set the \"use_line_collection\" keyword argument to True.\n",
            "  # This is added back by InteractiveShellApp.init_path()\n"
          ],
          "name": "stderr"
        },
        {
          "output_type": "execute_result",
          "data": {
            "text/plain": [
              "<StemContainer object of 3 artists>"
            ]
          },
          "metadata": {
            "tags": []
          },
          "execution_count": 43
        },
        {
          "output_type": "display_data",
          "data": {
            "image/png": "[encoded data removed]",
            "text/plain": [
              "<Figure size 432x288 with 1 Axes>"
            ]
          },
          "metadata": {
            "tags": [],
            "needs_background": "light"
          }
        }
      ]
    },
    {
      "cell_type": "markdown",
      "metadata": {
        "id": "oHv0waDYaMgQ",
        "colab_type": "text"
      },
      "source": [
        "\n",
        "\n",
        "---\n",
        "\n"
      ]
    },
    {
      "cell_type": "markdown",
      "metadata": {
        "id": "Sf9Td87laSL2",
        "colab_type": "text"
      },
      "source": [
        "#**4. Discretización de señales cosenoidales**\n",
        "###– Se pretende muestrear la senal $x(t) = cos(\\Omega t)$, con $t \\in [0, T], \\Omega = 2\\pi F, F = 1/T$ y $F = 60 Hz $. Se emplea un sistema de discretizacion con frecuencia de muestreo $Fs = 90 Hz$. Demuestre si el sistema utilizado es apropiado para la señal  $x(t)$ y estime la señal capturada. Realice una simulación en Python del proceso de discretización.\n",
        "\n",
        "\n",
        "\n",
        "\n"
      ]
    },
    {
      "cell_type": "markdown",
      "metadata": {
        "id": "JI7ou0hduSQl",
        "colab_type": "text"
      },
      "source": [
        "$ \\Rightarrow $ $x(t) = cos(2\\pi F t)$; $ F=60Hz $; $Fs = 90 Hz$\n",
        "\n",
        "El sistema de discretización no es apropiado porque $F_s$ no cumple la siguiente condición:\n",
        "\n",
        "$$ F_S \\geq 2F $$\n",
        "$$ 90hz \\geq 2\\text {x} 60hz $$\n",
        "$$ 90hz \\geq 120hz \\Rightarrow \\text {No se cumple la igualdad}  $$\n",
        "\n",
        "Ahora para estimar la señal capturada se aplica $t = nT_s = n/F_s$ \n",
        "\n",
        "$$x[t = n T_s] =  cos[2\\pi F nT_s]$$\n",
        "\n",
        "$$x[t = n T_s] = cos[2\\pi  \\tfrac{F}{F_s} n] $$\n",
        "\n",
        "Aplicando $\\Omega_i = 2\\pi f_i = 2\\pi \\tfrac{F_i}{F_s}$ ; Donde si $\\Omega \\in [-\\pi,\\pi]$ es original, de lo contrario es copia:\n",
        "\n",
        "$\\Omega = 2 \\pi \\tfrac{60}{90} = \\frac{4}{3}\\pi \\in [-\\pi,\\pi]$ (Copia)\n",
        "\n",
        "Como $\\Omega$ es copia y está $2 \\pi$ por encima de la original, es decir una vuelta por delante, entonces tenemos que hacer: \n",
        "$$\\Omega^{original}= \\Omega^{copia} - 2\\pi$$\n",
        "$$\\Omega^{original}=  \\frac{4}{3}\\pi  - 2\\pi = -\\frac{2}{3}\\pi \\in [-\\pi,\\pi] \\text {(Original)} $$ \n",
        "\n",
        "Después de encontrar el coseno original:\n",
        "\n",
        "$x[n] = cos[-\\frac{2}{3}\\pi n]$ \n",
        "\n",
        "•Donde $x[n]$ es la señal discretizada con $Fs=90hz$.\n",
        "\n"
      ]
    },
    {
      "cell_type": "markdown",
      "metadata": {
        "id": "_gnhZxfv_p_h",
        "colab_type": "text"
      },
      "source": [
        "##Grafica de la señal $x(t)$"
      ]
    },
    {
      "cell_type": "code",
      "metadata": {
        "id": "cdF27k0s-R7v",
        "colab_type": "code",
        "outputId": "e7c9d58d-0138-4b06-a3d5-17c347264985",
        "colab": {
          "base_uri": "https://localhost:8080/",
          "height": 279
        }
      },
      "source": [
        "\n",
        "import numpy as np\n",
        "import matplotlib.pyplot as plt\n",
        "\n",
        "F = 60\n",
        "w=2*np.pi*F\n",
        "\n",
        "Fs = 100*F\n",
        "T = 1/F\n",
        "Ts = 1/Fs\n",
        "\n",
        "t = np.arange(0,5*T,Ts) \n",
        "\n",
        "x = np.cos(w*t) \n",
        "\n",
        "plt.plot(t,x)\n",
        "plt.xlabel('t')\n",
        "plt.ylabel('x(t)')\n",
        "plt.show()\n",
        "\n"
      ],
      "execution_count": 0,
      "outputs": [
        {
          "output_type": "display_data",
          "data": {
            "image/png": "[encoded data removed]",
            "text/plain": [
              "<Figure size 432x288 with 1 Axes>"
            ]
          },
          "metadata": {
            "tags": [],
            "needs_background": "light"
          }
        }
      ]
    },
    {
      "cell_type": "markdown",
      "metadata": {
        "id": "GJwmtHejAZYk",
        "colab_type": "text"
      },
      "source": [
        "##Grafica de la señal $x(t)$  con $Fs=90hz$"
      ]
    },
    {
      "cell_type": "code",
      "metadata": {
        "id": "mRkJp_1wBPoM",
        "colab_type": "code",
        "outputId": "70ea3022-af0e-4d34-e252-2d9ab363e485",
        "colab": {
          "base_uri": "https://localhost:8080/",
          "height": 333
        }
      },
      "source": [
        "\n",
        "import numpy as np\n",
        "import matplotlib.pyplot as plt\n",
        "\n",
        "F = 60\n",
        "w=2*np.pi*F\n",
        "Fs = 90\n",
        "T = 1/F\n",
        "Ts = 1/Fs\n",
        "t = np.arange(0,5*T,Ts) \n",
        "x = np.cos(w*t)\n",
        "\n",
        "F1 = 60\n",
        "w1=2*np.pi*F1\n",
        "F1s = 100*F1\n",
        "T1 = 1/F1\n",
        "T1s = 1/F1s\n",
        "\n",
        "t1 = np.arange(0,5*T1,T1s) \n",
        "\n",
        "x1 = np.cos(w1*t1)\n",
        "\n",
        " \n",
        "\n",
        "plt.stem(t,x, label=\"x[n]\")\n",
        "plt.plot(t1,x1,color='r',label=\"x(t)\")\n",
        "plt.legend()\n",
        "plt.xlabel('t')\n",
        "plt.grid()\n",
        "plt.ylabel('x(t)')\n",
        "plt.title(\"Discretizacion señal completa fs = 90 Hz\")\n",
        "plt.show()\n",
        "\n"
      ],
      "execution_count": 13,
      "outputs": [
        {
          "output_type": "stream",
          "text": [
            "/usr/local/lib/python3.6/dist-packages/ipykernel_launcher.py:25: UserWarning: In Matplotlib 3.3 individual lines on a stem plot will be added as a LineCollection instead of individual lines. This significantly improves the performance of a stem plot. To remove this warning and switch to the new behaviour, set the \"use_line_collection\" keyword argument to True.\n"
          ],
          "name": "stderr"
        },
        {
          "output_type": "display_data",
          "data": {
            "image/png": "[encoded data removed]",
            "text/plain": [
              "<Figure size 432x288 with 1 Axes>"
            ]
          },
          "metadata": {
            "tags": [],
            "needs_background": "light"
          }
        }
      ]
    },
    {
      "cell_type": "markdown",
      "metadata": {
        "id": "P3UOk0P1hGSF",
        "colab_type": "text"
      },
      "source": [
        "\n",
        "\n",
        "---\n",
        "\n"
      ]
    },
    {
      "cell_type": "markdown",
      "metadata": {
        "id": "CjMgeW8ThG5A",
        "colab_type": "text"
      },
      "source": [
        "###-Se tiene un microprocesador de 3 bits con entrada analoga entre 0 y 10 $[v]$. Describa las condiciones necesarias para que el microprocesador pueda digitalizar la señal $x(t) = 9 cos(200\\pi t)$. Presente una simulacion en Python de dicho proceso para un ciclo de la señal $x(t)$.\n",
        "\n",
        "$ \\Rightarrow $ $x(t) = 9 cos(200\\pi t)$ \n",
        "\n",
        "Hallando la frecuencia fundamental podemos hallar una frecuencia de muestreo apropiada para discretizar la señal adecuadamente con el teorema Nyquist:\n",
        "\n",
        "$$F=\\frac{\\omega}{2\\pi}=\\frac{200\\pi}{2\\pi} = 100hz$$\n",
        "\n",
        "Teniendo la frecuencia fundamental hallamos la frecuencia de muestreo:\n",
        "\n",
        "$$ F_S \\geq 2F $$\n",
        "$$ F_S \\geq 2\\text {x} 100hz $$\n",
        "$$ F_S \\geq 200hz $$\n",
        "\n",
        "Entonces la $F_s$ del microprocesador debe de ser almenos $200hz$\n",
        "\n",
        "Seguido de ésto, se tiene que el Microprocesador trabaja con señales analogas de $0$ a $10$ $[v]$, por ende la señal no cumple las condiciones del microprocesador.Se deberá de adecuar con el metodo de cero y pendiente la señal como se muestra a continuación:\n",
        "\n",
        "\n",
        "\n",
        "\n",
        "\n",
        "\n",
        "Se plantea $y(t) = mx(t)+b$ tal que:\n",
        "$$\\begin{cases} y(t) = 0  & \\rightarrow \\: x(t)=-9\\\\ y(t) = 10 & \\rightarrow\\: x(t) =9  \\end{cases} $$\n",
        "\n",
        "Para ello se debe de hallar $m$ de la siguiente manera:\n",
        "\n",
        "$$m = \\frac{y_2-y_1}{x_2-x_1} = \\frac{10-0}{9-(-9)} =\\frac{10}{18} = \\frac{5}{9}$$\n",
        "\n",
        "Y determinar $b$ como se muestra a continuación:\n",
        "\n",
        "$$b = y(0)-mx(0)  $$\n",
        "$$ y(0) = 0 ; x(0) = -9 $$ \n",
        "$$ b = 0 - \\frac{5}{9}(-9) = 5$$\n",
        "\n",
        "Por lo tanto la nueva señal hallada que el microprocesador puede digitalizar es:\n",
        "\n",
        "$$y(t) = 5cos(200\\pi)+5$$\n",
        "\n",
        "\n",
        "\n",
        "Ahora para discretizar la señal se aplica $t = nT_s = n/F_s$ :\n",
        "\n",
        "$$y[t = n T_s] =  5cos[2\\pi F nT_s]+5$$\n",
        "\n",
        "$$y[t = n T_s] = 5cos[2\\pi  \\tfrac{F}{F_s} n]+5 $$\n",
        "\n",
        "$$y[t = n T_s] = 5cos[ 2 \\pi \\tfrac{100}{200} n]+5 $$\n",
        "\n",
        "$$y[t = n T_s] = 5cos[ \\pi n]+5 $$\n",
        "\n",
        "•Donde $y[n]$ es la señal discretizada con $Fs=200hz$.\n",
        "\n",
        "Ahora para Digitalizar la señal: \n",
        "\n",
        "Con los 3 bits del microprocesador se obtienen 8 posibles estados ($2^3=8$), con tamaño de paso en voltaje igual a $\\Delta v = 10/8 = 1.25 [v]$ entonces los intervalos de la señal se aplica la siguiente etapa de cuantización:\n",
        "\n",
        "$$\\begin{array}{c|c} \\hline\n",
        "x[n] &amp; x_c[n] &amp; Binario\\\\ \\hline\n",
        "[0.00,1.25) &amp; 0.00 &amp;0 0 0\\\\ \\hline\n",
        "[1.25,2.50) &amp; 1.25 &amp; 0 0 1\\\\ \\hline\n",
        "[2.50,3.75) &amp; 2.50 &amp; 0 1 0\\\\ \\hline\n",
        "[3.75,5.00] &amp; 3.75 &amp;0 1 1\\\\ \\hline\n",
        "[5.00,6.25] &amp; 5.00 &amp;1 0 0\\\\ \\hline\n",
        "[6.25,7.50] &amp; 6.25 &amp;1 0 1\\\\ \\hline\n",
        "[7.50,8.75] &amp; 7.50 &amp;1 1 0 \\\\ \\hline\n",
        "[8.75,10.00] &amp; 8.75 &amp;1 1 1\\\\ \\hline\n",
        "\\end{array}$$\n"
      ]
    },
    {
      "cell_type": "markdown",
      "metadata": {
        "id": "7_98HxQaxQ3Y",
        "colab_type": "text"
      },
      "source": [
        "###Gráfica de las señale $x(t)$ $y(t)$"
      ]
    },
    {
      "cell_type": "code",
      "metadata": {
        "id": "n-FwMCxzxaK-",
        "colab_type": "code",
        "colab": {
          "base_uri": "https://localhost:8080/",
          "height": 297
        },
        "outputId": "fe358a01-c56f-4275-e4a0-a04869148817"
      },
      "source": [
        "import numpy as np\n",
        "import matplotlib.pyplot as plt\n",
        "\n",
        "F = 100\n",
        "w=2*np.pi*F\n",
        "Fs = 100*F\n",
        "T = 1/F\n",
        "Ts = 1/Fs\n",
        "t = np.arange(0,2*T,Ts) \n",
        "x = 9*np.cos(w*t)\n",
        "\n",
        "Fy = 100\n",
        "wy=2*np.pi*Fy\n",
        "Fsy = 100*Fy\n",
        "Ty = 1/Fy\n",
        "Tsy = 1/Fsy\n",
        "ty = np.arange(0,2*Ty,Tsy) \n",
        "y = 5*np.cos(wy*ty)+5\n",
        "\n",
        " \n",
        "plt.plot(ty,y,color='r',label=\"y(t)\")\n",
        "plt.plot(t,x,color='b',label=\"x(t)\")\n",
        "plt.legend()\n",
        "plt.xlabel('t')\n",
        "plt.grid()\n",
        "plt.ylabel('y(t)')\n",
        "plt.title(\"Señal $y(t)$ y $x(t)$\")\n",
        "plt.show()\n",
        "\n"
      ],
      "execution_count": 20,
      "outputs": [
        {
          "output_type": "display_data",
          "data": {
            "image/png": "[encoded data removed]",
            "text/plain": [
              "<Figure size 432x288 with 1 Axes>"
            ]
          },
          "metadata": {
            "tags": [],
            "needs_background": "light"
          }
        }
      ]
    },
    {
      "cell_type": "markdown",
      "metadata": {
        "id": "oaJLfZjKylyb",
        "colab_type": "text"
      },
      "source": [
        "###Gráfica de discretización y cuantización de $y[n]$ "
      ]
    },
    {
      "cell_type": "code",
      "metadata": {
        "id": "yAye3QluyyUN",
        "colab_type": "code",
        "colab": {
          "base_uri": "https://localhost:8080/",
          "height": 614
        },
        "outputId": "c28ee87f-9c1c-4461-ae06-eb8cef1e866f"
      },
      "source": [
        "import numpy as np\n",
        "import matplotlib.pyplot as plt\n",
        "\n",
        "F = 100\n",
        "w=2*np.pi*F\n",
        "Fs = 2*F\n",
        "T = 1/F\n",
        "Ts = 1/Fs\n",
        "t = np.arange(0,2*T,Ts) \n",
        "x = 5*np.cos(w*t)+5\n",
        "\n",
        "Fy = 100\n",
        "wy=2*np.pi*Fy\n",
        "Fsy = 100*Fy\n",
        "Ty = 1/Fy\n",
        "Tsy = 1/Fsy\n",
        "ty = np.arange(0,2*Ty,Tsy) \n",
        "y = 5*np.cos(wy*ty)+5\n",
        "\n",
        " \n",
        "plt.plot(ty,y,color='r',label=\"y(t)\")\n",
        "plt.stem(t,x,label=\"y[n]\")\n",
        "plt.legend()\n",
        "plt.xlabel('t')\n",
        "plt.grid()\n",
        "plt.ylabel('y(t)')\n",
        "plt.title(\"Señal $y(t)$ y $y[n]$\")\n",
        "plt.show()\n",
        "\n",
        "# cero y pendiente mas discretizacion mas cuantizacion\n",
        "import numpy as np\n",
        "import matplotlib.pyplot as plt\n",
        "\n",
        "yc = np.zeros(len(y))\n",
        "\n",
        "for i in range(len(y)):\n",
        "    if y[i] < 1.25:\n",
        "       yc[i] = 0\n",
        "    elif (y[i] >= 1.25) and (y[i] <= 2.5):\n",
        "        yc[i] = 1.25\n",
        "    elif (y[i] >= 2.5) and (y[i] <= 3.75):\n",
        "        yc[i] = 2.5\n",
        "    elif (y[i] >= 3.75) and (y[i] <= 5):\n",
        "        yc[i] = 3.75\n",
        "    elif (y[i] >= 5) and (y[i] <= 6.25):\n",
        "        yc[i] = 5\n",
        "    elif (y[i] >= 6.25) and (y[i] <= 7.5):\n",
        "        yc[i] = 6.25\n",
        "    elif (y[i] >= 7.5) and (y[i] <= 8.75):\n",
        "        yc[i] = 7.5\n",
        "    else:\n",
        "        yc[i] = 8.75\n",
        "    \n",
        "plt.plot(ty,y,color='r',label=\"y(t)\")\n",
        "plt.plot(ty,yc,label=\"$y_c[nTs]$\",linewidth = 3)\n",
        "plt.legend()\n",
        "plt.xlabel('t')\n",
        "plt.grid()\n",
        "plt.title(\"Seña $y(t)$ y $y_c[nTs]$ \")\n",
        "plt.show()"
      ],
      "execution_count": 28,
      "outputs": [
        {
          "output_type": "stream",
          "text": [
            "/usr/local/lib/python3.6/dist-packages/ipykernel_launcher.py:22: UserWarning: In Matplotlib 3.3 individual lines on a stem plot will be added as a LineCollection instead of individual lines. This significantly improves the performance of a stem plot. To remove this warning and switch to the new behaviour, set the \"use_line_collection\" keyword argument to True.\n"
          ],
          "name": "stderr"
        },
        {
          "output_type": "display_data",
          "data": {
            "image/png": "[encoded data removed]",
            "text/plain": [
              "<Figure size 432x288 with 1 Axes>"
            ]
          },
          "metadata": {
            "tags": [],
            "needs_background": "light"
          }
        },
        {
          "output_type": "display_data",
          "data": {
            "image/png": "[encoded data removed]",
            "text/plain": [
              "<Figure size 432x288 with 1 Axes>"
            ]
          },
          "metadata": {
            "tags": [],
            "needs_background": "light"
          }
        }
      ]
    },
    {
      "cell_type": "markdown",
      "metadata": {
        "id": "q4n3Km4w0c6z",
        "colab_type": "text"
      },
      "source": [
        "\n",
        "\n",
        "---\n",
        "\n"
      ]
    },
    {
      "cell_type": "markdown",
      "metadata": {
        "id": "u5qYTjHy48Wv",
        "colab_type": "text"
      },
      "source": [
        "###– Se tiene un sistema de discretización con frecuencia de muestreo $Fs = 40 Hz$, aplicado a las señales $x_1 (t) = cos(20\\pi t)$ y $x_2 (t) = cos(100 \\pi t)$: Las versiones discretizadas de las señales son distinguibles entre si?. Implemente simulación en Python del proceso de discretización.\n",
        "\n",
        "$ \\Rightarrow $ $x_1 (t) = cos(20\\pi t)$; $ F_1=10Hz $; $Fs = 40 Hz$\n",
        "\n",
        "$ \\Rightarrow $ $x_2 (t) = cos(100 \\pi t)$ ; $ F_2=50Hz $; $Fs = 40 Hz$\n",
        "\n",
        "\n",
        "\n",
        "Ahora para Discretizar las señales capturadas se aplica $t = nT_s = n/F_s$ \n",
        "\n",
        "Para $x_1(t)$:\n",
        "\n",
        "$$x_1[t = n T_s] =  cos[2\\pi F_1 nT_s]$$\n",
        "\n",
        "$$x_1[t = n T_s] = cos[2\\pi  \\tfrac{F_1}{F_s} n] $$\n",
        "\n",
        "Aplicando $\\Omega_i = 2\\pi f_i = 2\\pi \\tfrac{F_i}{F_s}$ ; Donde si $\\Omega \\in [-\\pi,\\pi]$ es original, de lo contrario es copia:\n",
        "\n",
        "$$\\Omega_1 = 2 \\pi \\tfrac{10}{40} = \\frac{1}{2}\\pi \\in [-\\pi,\\pi] \\text{(Original)}$$ \n",
        "\n",
        "Entonces la señal $x_1(t)$ discretizada es:\n",
        "\n",
        "$$x_1[n] = cos[ \\frac{\\pi}{2} n] $$\n",
        "\n",
        "Para $x_2(t)$:\n",
        "\n",
        "$$x_2[t = n T_s] =  cos[2\\pi F_2 nT_s]$$\n",
        "\n",
        "$$x_2[t = n T_s] = cos[2\\pi  \\tfrac{F_2}{F_s} n] $$\n",
        "\n",
        "$$\\Omega_2 = 2 \\pi \\tfrac{50}{40} = \\frac{5}{2}\\pi \\notin [-\\pi,\\pi] \\text{(Copia)}$$ \n",
        "\n",
        "Como $\\Omega_2 $ es copia y está $2 \\pi$ por encima de la original, es decir una vuelta por delante, entonces tenemos que hacer: \n",
        "$$\\Omega_{2}^{original}= \\Omega_{2}^{copia} - 2\\pi$$\n",
        "$$\\Omega_{2}^{original}=  \\frac{5}{2}\\pi  - 2\\pi = \\frac{1}{2}\\pi \\in [-\\pi,\\pi] \\text {(Original)} $$ \n",
        "\n",
        "Entonces la señal $x_2(t)$ discretizada es:\n",
        "\n",
        "$$x_2[n] = cos[ \\frac{\\pi}{2} n] $$ \n",
        "\n",
        "•Entonces las señales $x_1[n] = cos[ \\frac{\\pi}{2} n]$ y $x_2[n] = cos[ \\frac{\\pi}{2} n]$ no son distinguibles entre si porque tienen la misma frecuencia angular $\\omega_1 = \\omega_2 $\n",
        "\n"
      ]
    }
  ]
}